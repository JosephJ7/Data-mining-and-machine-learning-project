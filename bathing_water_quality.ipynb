{
 "cells": [
  {
   "cell_type": "markdown",
   "id": "ea60f267",
   "metadata": {},
   "source": [
    "# 1. Introduction and Dataset Overview\n",
    "\n",
    "\n",
    "**Dataset Name:** Water Quality Measurements\n",
    "\n",
    "**Source:** Environmental Protection Agency (EPA), Ireland (https://data.gov.ie/dataset/beaches-api)\n",
    "\n",
    "**Purpose:** This dataset contains water quality measurements, specifically levels of E. coli and Intestinal Enterococci, at various beaches in Ireland. The data is collected to monitor and assess the quality of bathing waters and ensure public health safety.\n",
    "\n",
    "**Type of Problem:** Clustering.\n",
    "\n",
    "\n",
    "**Key Features:**\n",
    "\n",
    "* **beach_name:** Name of the beach.\n",
    "* **county_name:** County where the beach is located.\n",
    "* **local_authority_name:** Local authority where the beach is located.\n",
    "* **e_coli_result:** E. coli bacteria level.\n",
    "* **intestinal_enterococci_result:** Intestinal Enterococci bacteria level.\n",
    "\n"
   ]
  },
  {
   "cell_type": "code",
   "execution_count": 1,
   "id": "34a3ef42",
   "metadata": {},
   "outputs": [],
   "source": [
    "import pandas as pd\n",
    "import numpy as np\n",
    "import matplotlib.pyplot as plt\n",
    "import seaborn as sns\n",
    "import requests\n",
    "import json\n",
    "from sklearn.cluster import KMeans, AgglomerativeClustering\n",
    "from sklearn.preprocessing import StandardScaler,OneHotEncoder\n",
    "from sklearn.metrics import silhouette_score, calinski_harabasz_score, davies_bouldin_score\n",
    "from scipy.stats import zscore\n",
    "from sklearn.decomposition import PCA\n",
    "from scipy.cluster.hierarchy import dendrogram, linkage"
   ]
  },
  {
   "cell_type": "code",
   "execution_count": 2,
   "id": "ad3af921",
   "metadata": {},
   "outputs": [],
   "source": [
    "def load_data_from_api(base_url, page_size=50):\n",
    "    \"\"\"\n",
    "    Loads water quality data from the EPA API, handling pagination.\n",
    "\n",
    "    Args:\n",
    "        base_url (str): The base URL of the API endpoint.\n",
    "        page_size (int, optional): The number of results per page. Defaults to 50.\n",
    "\n",
    "    Returns:\n",
    "        pandas.DataFrame: The loaded data, or None on error.\n",
    "    \"\"\"\n",
    "    all_data = []\n",
    "    page = 1\n",
    "    while True:\n",
    "        url = f\"{base_url}?page={page}&per_page={page_size}\"\n",
    "        try:\n",
    "            response = requests.get(url)\n",
    "            response.raise_for_status()  # Raise an exception for bad status codes\n",
    "            data = response.json()\n",
    "\n",
    "            if 'list' not in data:\n",
    "                print(\"Error: 'list' key not found in API response.\")\n",
    "                return None\n",
    "\n",
    "            if not data['list']:  # Check if the 'list' is empty, indicating no more data\n",
    "                break\n",
    "\n",
    "            all_data.extend(data['list'])\n",
    "            page += 1\n",
    "            print(f\"Fetched page {page-1}, total data points: {len(all_data)}\")\n",
    "        except requests.exceptions.RequestException as e:\n",
    "            print(f\"Error fetching data from API: {e}\")\n",
    "            return None\n",
    "        except json.JSONDecodeError:\n",
    "            print(\"Error decoding JSON.  The API may not be returning valid JSON.\")\n",
    "            return None\n",
    "        except Exception as e:\n",
    "            print(f\"An unexpected error occurred: {e}\")\n",
    "            return None\n",
    "\n",
    "    if not all_data:\n",
    "        print(\"No data fetched from the API.\")\n",
    "        return None\n",
    "\n",
    "    df = pd.DataFrame(all_data)\n",
    "    return df\n"
   ]
  },
  {
   "cell_type": "markdown",
   "id": "b467c394",
   "metadata": {},
   "source": [
    "## 1.1 Loading the dataset"
   ]
  },
  {
   "cell_type": "code",
   "execution_count": 3,
   "metadata": {},
   "outputs": [
    {
     "name": "stdout",
     "output_type": "stream",
     "text": [
      "Fetched page 1, total data points: 50\n",
      "Fetched page 2, total data points: 100\n",
      "Fetched page 3, total data points: 150\n",
      "Fetched page 4, total data points: 200\n",
      "Fetched page 5, total data points: 250\n",
      "Fetched page 6, total data points: 300\n",
      "Fetched page 7, total data points: 350\n",
      "Fetched page 8, total data points: 400\n",
      "Fetched page 9, total data points: 450\n",
      "Fetched page 10, total data points: 500\n",
      "Fetched page 11, total data points: 550\n",
      "Fetched page 12, total data points: 600\n",
      "Fetched page 13, total data points: 650\n",
      "Fetched page 14, total data points: 700\n",
      "Fetched page 15, total data points: 750\n",
      "Fetched page 16, total data points: 800\n",
      "Fetched page 17, total data points: 850\n",
      "Fetched page 18, total data points: 900\n",
      "Fetched page 19, total data points: 950\n",
      "Fetched page 20, total data points: 1000\n",
      "Fetched page 21, total data points: 1050\n",
      "Fetched page 22, total data points: 1100\n",
      "Fetched page 23, total data points: 1150\n",
      "Fetched page 24, total data points: 1200\n",
      "Fetched page 25, total data points: 1250\n",
      "Fetched page 26, total data points: 1300\n",
      "Fetched page 27, total data points: 1350\n",
      "Fetched page 28, total data points: 1400\n",
      "Fetched page 29, total data points: 1450\n",
      "Fetched page 30, total data points: 1500\n",
      "Fetched page 31, total data points: 1550\n",
      "Fetched page 32, total data points: 1600\n",
      "Fetched page 33, total data points: 1650\n",
      "Fetched page 34, total data points: 1700\n",
      "Fetched page 35, total data points: 1750\n",
      "Fetched page 36, total data points: 1800\n",
      "Fetched page 37, total data points: 1850\n",
      "Fetched page 38, total data points: 1900\n",
      "Fetched page 39, total data points: 1950\n",
      "Fetched page 40, total data points: 2000\n",
      "Fetched page 41, total data points: 2050\n",
      "Fetched page 42, total data points: 2100\n",
      "Fetched page 43, total data points: 2150\n",
      "Fetched page 44, total data points: 2200\n",
      "Fetched page 45, total data points: 2250\n",
      "Fetched page 46, total data points: 2300\n",
      "Fetched page 47, total data points: 2350\n",
      "Fetched page 48, total data points: 2400\n",
      "Fetched page 49, total data points: 2450\n",
      "Fetched page 50, total data points: 2500\n",
      "Fetched page 51, total data points: 2550\n",
      "Fetched page 52, total data points: 2600\n",
      "Fetched page 53, total data points: 2650\n",
      "Fetched page 54, total data points: 2700\n",
      "Fetched page 55, total data points: 2750\n",
      "Fetched page 56, total data points: 2800\n",
      "Fetched page 57, total data points: 2850\n",
      "Fetched page 58, total data points: 2900\n",
      "Fetched page 59, total data points: 2950\n",
      "Fetched page 60, total data points: 3000\n",
      "Fetched page 61, total data points: 3050\n",
      "Fetched page 62, total data points: 3100\n",
      "Fetched page 63, total data points: 3150\n",
      "Fetched page 64, total data points: 3200\n",
      "Fetched page 65, total data points: 3250\n",
      "Fetched page 66, total data points: 3300\n",
      "Fetched page 67, total data points: 3350\n",
      "Fetched page 68, total data points: 3400\n",
      "Fetched page 69, total data points: 3450\n",
      "Fetched page 70, total data points: 3500\n",
      "Fetched page 71, total data points: 3550\n",
      "Fetched page 72, total data points: 3600\n",
      "Fetched page 73, total data points: 3650\n",
      "Fetched page 74, total data points: 3700\n",
      "Fetched page 75, total data points: 3750\n",
      "Fetched page 76, total data points: 3800\n",
      "Fetched page 77, total data points: 3850\n",
      "Fetched page 78, total data points: 3900\n",
      "Fetched page 79, total data points: 3950\n",
      "Fetched page 80, total data points: 4000\n",
      "Fetched page 81, total data points: 4050\n",
      "Fetched page 82, total data points: 4100\n",
      "Fetched page 83, total data points: 4150\n",
      "Fetched page 84, total data points: 4200\n",
      "Fetched page 85, total data points: 4250\n",
      "Fetched page 86, total data points: 4300\n",
      "Fetched page 87, total data points: 4350\n",
      "Fetched page 88, total data points: 4400\n",
      "Fetched page 89, total data points: 4450\n",
      "Fetched page 90, total data points: 4500\n",
      "Fetched page 91, total data points: 4550\n",
      "Fetched page 92, total data points: 4600\n",
      "Fetched page 93, total data points: 4650\n",
      "Fetched page 94, total data points: 4700\n",
      "Fetched page 95, total data points: 4750\n",
      "Fetched page 96, total data points: 4800\n",
      "Fetched page 97, total data points: 4850\n",
      "Fetched page 98, total data points: 4900\n",
      "Fetched page 99, total data points: 4950\n",
      "Fetched page 100, total data points: 5000\n",
      "Fetched page 101, total data points: 5050\n",
      "Fetched page 102, total data points: 5100\n",
      "Fetched page 103, total data points: 5150\n",
      "Fetched page 104, total data points: 5200\n",
      "Fetched page 105, total data points: 5250\n",
      "Fetched page 106, total data points: 5300\n",
      "Fetched page 107, total data points: 5350\n",
      "Fetched page 108, total data points: 5400\n",
      "Fetched page 109, total data points: 5450\n",
      "Fetched page 110, total data points: 5500\n",
      "Fetched page 111, total data points: 5550\n",
      "Fetched page 112, total data points: 5600\n",
      "Fetched page 113, total data points: 5650\n",
      "Fetched page 114, total data points: 5700\n",
      "Fetched page 115, total data points: 5750\n",
      "Fetched page 116, total data points: 5800\n",
      "Fetched page 117, total data points: 5850\n",
      "Fetched page 118, total data points: 5900\n",
      "Fetched page 119, total data points: 5950\n",
      "Fetched page 120, total data points: 6000\n",
      "Fetched page 121, total data points: 6050\n",
      "Fetched page 122, total data points: 6100\n",
      "Fetched page 123, total data points: 6150\n",
      "Fetched page 124, total data points: 6200\n",
      "Fetched page 125, total data points: 6250\n",
      "Fetched page 126, total data points: 6300\n",
      "Fetched page 127, total data points: 6350\n",
      "Fetched page 128, total data points: 6400\n",
      "Fetched page 129, total data points: 6450\n",
      "Fetched page 130, total data points: 6500\n",
      "Fetched page 131, total data points: 6550\n",
      "Fetched page 132, total data points: 6600\n",
      "Fetched page 133, total data points: 6650\n",
      "Fetched page 134, total data points: 6700\n",
      "Fetched page 135, total data points: 6750\n",
      "Fetched page 136, total data points: 6800\n",
      "Fetched page 137, total data points: 6850\n",
      "Fetched page 138, total data points: 6900\n",
      "Fetched page 139, total data points: 6950\n",
      "Fetched page 140, total data points: 7000\n",
      "Fetched page 141, total data points: 7050\n",
      "Fetched page 142, total data points: 7100\n",
      "Fetched page 143, total data points: 7150\n",
      "Fetched page 144, total data points: 7200\n",
      "Fetched page 145, total data points: 7250\n",
      "Fetched page 146, total data points: 7300\n",
      "Fetched page 147, total data points: 7350\n",
      "Fetched page 148, total data points: 7400\n",
      "Fetched page 149, total data points: 7450\n",
      "Fetched page 150, total data points: 7500\n",
      "Fetched page 151, total data points: 7550\n",
      "Fetched page 152, total data points: 7600\n",
      "Fetched page 153, total data points: 7650\n",
      "Fetched page 154, total data points: 7700\n",
      "Fetched page 155, total data points: 7750\n",
      "Fetched page 156, total data points: 7800\n",
      "Fetched page 157, total data points: 7850\n",
      "Fetched page 158, total data points: 7900\n",
      "Fetched page 159, total data points: 7950\n",
      "Fetched page 160, total data points: 8000\n",
      "Fetched page 161, total data points: 8050\n",
      "Fetched page 162, total data points: 8100\n",
      "Fetched page 163, total data points: 8150\n",
      "Fetched page 164, total data points: 8200\n",
      "Fetched page 165, total data points: 8250\n",
      "Fetched page 166, total data points: 8300\n",
      "Fetched page 167, total data points: 8350\n",
      "Fetched page 168, total data points: 8400\n",
      "Fetched page 169, total data points: 8450\n",
      "Fetched page 170, total data points: 8500\n",
      "Fetched page 171, total data points: 8550\n",
      "Fetched page 172, total data points: 8600\n",
      "Fetched page 173, total data points: 8650\n",
      "Fetched page 174, total data points: 8700\n",
      "Fetched page 175, total data points: 8750\n",
      "Fetched page 176, total data points: 8800\n",
      "Fetched page 177, total data points: 8850\n",
      "Fetched page 178, total data points: 8900\n",
      "Fetched page 179, total data points: 8950\n",
      "Fetched page 180, total data points: 9000\n",
      "Fetched page 181, total data points: 9050\n",
      "Fetched page 182, total data points: 9100\n",
      "Fetched page 183, total data points: 9150\n",
      "Fetched page 184, total data points: 9200\n",
      "Fetched page 185, total data points: 9250\n",
      "Fetched page 186, total data points: 9300\n",
      "Fetched page 187, total data points: 9350\n",
      "Fetched page 188, total data points: 9400\n",
      "Fetched page 189, total data points: 9450\n",
      "Fetched page 190, total data points: 9500\n",
      "Fetched page 191, total data points: 9550\n",
      "Fetched page 192, total data points: 9600\n",
      "Fetched page 193, total data points: 9650\n",
      "Fetched page 194, total data points: 9700\n",
      "Fetched page 195, total data points: 9750\n",
      "Fetched page 196, total data points: 9800\n",
      "Fetched page 197, total data points: 9850\n",
      "Fetched page 198, total data points: 9900\n",
      "Fetched page 199, total data points: 9950\n",
      "Fetched page 200, total data points: 10000\n",
      "Fetched page 201, total data points: 10050\n",
      "Fetched page 202, total data points: 10100\n",
      "Fetched page 203, total data points: 10150\n",
      "Fetched page 204, total data points: 10200\n",
      "Fetched page 205, total data points: 10250\n",
      "Fetched page 206, total data points: 10300\n",
      "Fetched page 207, total data points: 10350\n",
      "Fetched page 208, total data points: 10400\n",
      "Fetched page 209, total data points: 10450\n",
      "Fetched page 210, total data points: 10500\n",
      "Fetched page 211, total data points: 10550\n",
      "Fetched page 212, total data points: 10600\n",
      "Fetched page 213, total data points: 10650\n",
      "Fetched page 214, total data points: 10700\n",
      "Fetched page 215, total data points: 10750\n",
      "Fetched page 216, total data points: 10800\n",
      "Fetched page 217, total data points: 10850\n",
      "Fetched page 218, total data points: 10900\n",
      "Fetched page 219, total data points: 10950\n",
      "Fetched page 220, total data points: 11000\n",
      "Fetched page 221, total data points: 11050\n",
      "Fetched page 222, total data points: 11100\n",
      "Fetched page 223, total data points: 11150\n",
      "Fetched page 224, total data points: 11200\n",
      "Fetched page 225, total data points: 11250\n",
      "Fetched page 226, total data points: 11300\n",
      "Fetched page 227, total data points: 11350\n",
      "Fetched page 228, total data points: 11400\n",
      "Fetched page 229, total data points: 11450\n",
      "Fetched page 230, total data points: 11500\n",
      "Fetched page 231, total data points: 11550\n",
      "Fetched page 232, total data points: 11600\n",
      "Fetched page 233, total data points: 11650\n",
      "Fetched page 234, total data points: 11700\n",
      "Fetched page 235, total data points: 11750\n",
      "Fetched page 236, total data points: 11800\n",
      "Fetched page 237, total data points: 11850\n",
      "Fetched page 238, total data points: 11900\n",
      "Fetched page 239, total data points: 11950\n",
      "Fetched page 240, total data points: 12000\n",
      "Fetched page 241, total data points: 12050\n",
      "Fetched page 242, total data points: 12100\n",
      "Fetched page 243, total data points: 12150\n",
      "Fetched page 244, total data points: 12200\n",
      "Fetched page 245, total data points: 12250\n",
      "Fetched page 246, total data points: 12300\n",
      "Fetched page 247, total data points: 12350\n",
      "Fetched page 248, total data points: 12400\n",
      "Fetched page 249, total data points: 12450\n",
      "Fetched page 250, total data points: 12500\n",
      "Fetched page 251, total data points: 12550\n",
      "Fetched page 252, total data points: 12600\n",
      "Fetched page 253, total data points: 12650\n",
      "Fetched page 254, total data points: 12700\n",
      "Fetched page 255, total data points: 12750\n",
      "Fetched page 256, total data points: 12800\n",
      "Fetched page 257, total data points: 12850\n",
      "Fetched page 258, total data points: 12900\n",
      "Fetched page 259, total data points: 12950\n",
      "Fetched page 260, total data points: 13000\n",
      "Fetched page 261, total data points: 13050\n",
      "Fetched page 262, total data points: 13100\n",
      "Fetched page 263, total data points: 13150\n",
      "Fetched page 264, total data points: 13200\n",
      "Fetched page 265, total data points: 13250\n",
      "Fetched page 266, total data points: 13300\n",
      "Fetched page 267, total data points: 13350\n",
      "Fetched page 268, total data points: 13400\n",
      "Fetched page 269, total data points: 13450\n",
      "Fetched page 270, total data points: 13500\n",
      "Fetched page 271, total data points: 13550\n",
      "Fetched page 272, total data points: 13600\n",
      "Fetched page 273, total data points: 13650\n",
      "Fetched page 274, total data points: 13700\n",
      "Fetched page 275, total data points: 13750\n",
      "Fetched page 276, total data points: 13800\n",
      "Fetched page 277, total data points: 13850\n",
      "Fetched page 278, total data points: 13900\n",
      "Fetched page 279, total data points: 13950\n",
      "Fetched page 280, total data points: 14000\n",
      "Fetched page 281, total data points: 14050\n",
      "Fetched page 282, total data points: 14100\n",
      "Fetched page 283, total data points: 14150\n",
      "Fetched page 284, total data points: 14200\n",
      "Fetched page 285, total data points: 14250\n",
      "Fetched page 286, total data points: 14300\n",
      "Fetched page 287, total data points: 14350\n",
      "Fetched page 288, total data points: 14400\n",
      "Fetched page 289, total data points: 14450\n",
      "Fetched page 290, total data points: 14500\n",
      "Fetched page 291, total data points: 14550\n",
      "Fetched page 292, total data points: 14600\n",
      "Fetched page 293, total data points: 14650\n",
      "Fetched page 294, total data points: 14700\n",
      "Fetched page 295, total data points: 14750\n",
      "Fetched page 296, total data points: 14800\n",
      "Fetched page 297, total data points: 14850\n",
      "Fetched page 298, total data points: 14900\n",
      "Fetched page 299, total data points: 14950\n",
      "Fetched page 300, total data points: 15000\n",
      "Fetched page 301, total data points: 15050\n",
      "Fetched page 302, total data points: 15100\n",
      "Fetched page 303, total data points: 15150\n",
      "Fetched page 304, total data points: 15200\n",
      "Fetched page 305, total data points: 15250\n",
      "Fetched page 306, total data points: 15300\n",
      "Fetched page 307, total data points: 15350\n",
      "Fetched page 308, total data points: 15400\n",
      "Fetched page 309, total data points: 15450\n",
      "Fetched page 310, total data points: 15500\n",
      "Fetched page 311, total data points: 15550\n",
      "Fetched page 312, total data points: 15600\n",
      "Fetched page 313, total data points: 15650\n",
      "Fetched page 314, total data points: 15700\n",
      "Fetched page 315, total data points: 15750\n",
      "Fetched page 316, total data points: 15800\n",
      "Fetched page 317, total data points: 15850\n",
      "Fetched page 318, total data points: 15900\n",
      "Fetched page 319, total data points: 15950\n",
      "Fetched page 320, total data points: 16000\n",
      "Fetched page 321, total data points: 16050\n",
      "Fetched page 322, total data points: 16100\n",
      "Fetched page 323, total data points: 16150\n",
      "Fetched page 324, total data points: 16200\n",
      "Fetched page 325, total data points: 16250\n",
      "Fetched page 326, total data points: 16300\n",
      "Fetched page 327, total data points: 16350\n",
      "Fetched page 328, total data points: 16400\n",
      "Fetched page 329, total data points: 16450\n",
      "Fetched page 330, total data points: 16500\n",
      "Fetched page 331, total data points: 16550\n",
      "Fetched page 332, total data points: 16600\n",
      "Fetched page 333, total data points: 16650\n",
      "Fetched page 334, total data points: 16700\n",
      "Fetched page 335, total data points: 16750\n",
      "Fetched page 336, total data points: 16800\n",
      "Fetched page 337, total data points: 16850\n",
      "Fetched page 338, total data points: 16900\n",
      "Fetched page 339, total data points: 16950\n",
      "Fetched page 340, total data points: 17000\n",
      "Fetched page 341, total data points: 17050\n",
      "Fetched page 342, total data points: 17100\n",
      "Fetched page 343, total data points: 17150\n",
      "Fetched page 344, total data points: 17200\n",
      "Fetched page 345, total data points: 17250\n",
      "Fetched page 346, total data points: 17300\n",
      "Fetched page 347, total data points: 17350\n",
      "Fetched page 348, total data points: 17400\n",
      "Fetched page 349, total data points: 17450\n",
      "Fetched page 350, total data points: 17500\n",
      "Fetched page 351, total data points: 17550\n",
      "Fetched page 352, total data points: 17600\n",
      "Fetched page 353, total data points: 17650\n",
      "Fetched page 354, total data points: 17700\n",
      "Fetched page 355, total data points: 17750\n",
      "Fetched page 356, total data points: 17800\n",
      "Fetched page 357, total data points: 17850\n",
      "Fetched page 358, total data points: 17900\n",
      "Fetched page 359, total data points: 17950\n",
      "Fetched page 360, total data points: 18000\n",
      "Fetched page 361, total data points: 18050\n",
      "Fetched page 362, total data points: 18100\n",
      "Fetched page 363, total data points: 18150\n",
      "Fetched page 364, total data points: 18200\n",
      "Fetched page 365, total data points: 18250\n",
      "Fetched page 366, total data points: 18300\n",
      "Fetched page 367, total data points: 18350\n",
      "Fetched page 368, total data points: 18400\n",
      "Fetched page 369, total data points: 18450\n",
      "Fetched page 370, total data points: 18500\n",
      "Fetched page 371, total data points: 18550\n",
      "Fetched page 372, total data points: 18600\n",
      "Fetched page 373, total data points: 18650\n",
      "Fetched page 374, total data points: 18700\n",
      "Fetched page 375, total data points: 18750\n",
      "Fetched page 376, total data points: 18800\n",
      "Fetched page 377, total data points: 18850\n",
      "Fetched page 378, total data points: 18900\n",
      "Fetched page 379, total data points: 18950\n",
      "Fetched page 380, total data points: 19000\n",
      "Fetched page 381, total data points: 19050\n",
      "Fetched page 382, total data points: 19100\n",
      "Fetched page 383, total data points: 19150\n",
      "Fetched page 384, total data points: 19200\n",
      "Fetched page 385, total data points: 19250\n",
      "Fetched page 386, total data points: 19300\n",
      "Fetched page 387, total data points: 19350\n",
      "Fetched page 388, total data points: 19400\n",
      "Fetched page 389, total data points: 19450\n",
      "Fetched page 390, total data points: 19500\n",
      "Fetched page 391, total data points: 19550\n",
      "Fetched page 392, total data points: 19600\n",
      "Fetched page 393, total data points: 19650\n",
      "Fetched page 394, total data points: 19700\n",
      "Fetched page 395, total data points: 19750\n",
      "Fetched page 396, total data points: 19800\n",
      "Fetched page 397, total data points: 19850\n",
      "Fetched page 398, total data points: 19900\n",
      "Fetched page 399, total data points: 19950\n",
      "Fetched page 400, total data points: 20000\n",
      "Fetched page 401, total data points: 20050\n",
      "Fetched page 402, total data points: 20100\n",
      "Fetched page 403, total data points: 20150\n",
      "Fetched page 404, total data points: 20200\n",
      "Fetched page 405, total data points: 20250\n",
      "Fetched page 406, total data points: 20300\n",
      "Fetched page 407, total data points: 20350\n",
      "Fetched page 408, total data points: 20400\n",
      "Fetched page 409, total data points: 20450\n",
      "Fetched page 410, total data points: 20500\n",
      "Fetched page 411, total data points: 20550\n",
      "Fetched page 412, total data points: 20600\n",
      "Fetched page 413, total data points: 20650\n",
      "Fetched page 414, total data points: 20700\n",
      "Fetched page 415, total data points: 20750\n",
      "Fetched page 416, total data points: 20800\n",
      "Fetched page 417, total data points: 20850\n",
      "Fetched page 418, total data points: 20900\n",
      "Fetched page 419, total data points: 20950\n",
      "Fetched page 420, total data points: 21000\n",
      "Fetched page 421, total data points: 21050\n",
      "Fetched page 422, total data points: 21100\n",
      "Fetched page 423, total data points: 21150\n",
      "Fetched page 424, total data points: 21200\n",
      "Fetched page 425, total data points: 21250\n",
      "Fetched page 426, total data points: 21300\n",
      "Fetched page 427, total data points: 21350\n",
      "Fetched page 428, total data points: 21400\n",
      "Fetched page 429, total data points: 21450\n",
      "Fetched page 430, total data points: 21500\n",
      "Fetched page 431, total data points: 21550\n",
      "Fetched page 432, total data points: 21600\n",
      "Fetched page 433, total data points: 21650\n",
      "Fetched page 434, total data points: 21700\n",
      "Fetched page 435, total data points: 21750\n",
      "Fetched page 436, total data points: 21800\n",
      "Fetched page 437, total data points: 21850\n",
      "Fetched page 438, total data points: 21859\n"
     ]
    }
   ],
   "source": [
    "base_url = \"https://data.epa.ie/bw/api/v1/measurements\"\n",
    "df = load_data_from_api(base_url)\n",
    "\n",
    "if df is None:\n",
    "    print(\"Failed to load data.  Please check the data URL and ensure the data is available.\")\n",
    "    exit()"
   ]
  },
  {
   "cell_type": "markdown",
   "id": "d6200609",
   "metadata": {},
   "source": [
    "# 2. Data Preprocessing and Cleaning"
   ]
  },
  {
   "cell_type": "code",
   "execution_count": 4,
   "id": "dfdaaced",
   "metadata": {},
   "outputs": [
    {
     "data": {
      "application/vnd.microsoft.datawrangler.viewer.v0+json": {
       "columns": [
        {
         "name": "index",
         "rawType": "int64",
         "type": "integer"
        },
        {
         "name": "monitoring_result_id",
         "rawType": "int64",
         "type": "integer"
        },
        {
         "name": "beach_id",
         "rawType": "object",
         "type": "string"
        },
        {
         "name": "beach_name",
         "rawType": "object",
         "type": "string"
        },
        {
         "name": "county_name",
         "rawType": "object",
         "type": "string"
        },
        {
         "name": "local_authority_name",
         "rawType": "object",
         "type": "string"
        },
        {
         "name": "sample_code",
         "rawType": "object",
         "type": "string"
        },
        {
         "name": "result_date",
         "rawType": "object",
         "type": "string"
        },
        {
         "name": "e_coli_result",
         "rawType": "object",
         "type": "string"
        },
        {
         "name": "intestinal_enterococci_result",
         "rawType": "object",
         "type": "string"
        },
        {
         "name": "sample_water_quality_status",
         "rawType": "object",
         "type": "string"
        }
       ],
       "conversionMethod": "pd.DataFrame",
       "ref": "b30e27c9-19a0-4488-800f-7237d367e1d5",
       "rows": [
        [
         "0",
         "3168",
         "IESEBWC050_0000_0100",
         "Ardmore Beach",
         "Waterford",
         "Waterford City & County Council",
         "1450ard2205         ",
         "2014-05-22",
         "1",
         "1",
         "Excellent"
        ],
        [
         "1",
         "3169",
         "IESEBWC140_0000_0100",
         "Clonea Beach",
         "Waterford",
         "Waterford City & County Council",
         "1450clonea2205      ",
         "2014-05-22",
         "1",
         "1",
         "Excellent"
        ],
        [
         "2",
         "3170",
         "IESEBWC100_0000_0100",
         "Counsellors' Strand, Dunmore East",
         "Waterford",
         "Waterford City & County Council",
         "1450counc2205       ",
         "2014-05-22",
         "<1",
         "1",
         "Excellent"
        ],
        [
         "3",
         "3171",
         "IESEBWC100_0000_0200",
         "Dunmore Strand, Dunmore East",
         "Waterford",
         "Waterford City & County Council",
         "1450dunstrand2205   ",
         "2014-05-22",
         "124",
         "12",
         "Excellent"
        ],
        [
         "4",
         "3172",
         "IESEBWC110_0000_0100",
         "Tramore Beach",
         "Waterford",
         "Waterford City & County Council",
         "1450tram2205        ",
         "2014-05-22",
         "1",
         "1",
         "Excellent"
        ]
       ],
       "shape": {
        "columns": 10,
        "rows": 5
       }
      },
      "text/html": [
       "<div>\n",
       "<style scoped>\n",
       "    .dataframe tbody tr th:only-of-type {\n",
       "        vertical-align: middle;\n",
       "    }\n",
       "\n",
       "    .dataframe tbody tr th {\n",
       "        vertical-align: top;\n",
       "    }\n",
       "\n",
       "    .dataframe thead th {\n",
       "        text-align: right;\n",
       "    }\n",
       "</style>\n",
       "<table border=\"1\" class=\"dataframe\">\n",
       "  <thead>\n",
       "    <tr style=\"text-align: right;\">\n",
       "      <th></th>\n",
       "      <th>monitoring_result_id</th>\n",
       "      <th>beach_id</th>\n",
       "      <th>beach_name</th>\n",
       "      <th>county_name</th>\n",
       "      <th>local_authority_name</th>\n",
       "      <th>sample_code</th>\n",
       "      <th>result_date</th>\n",
       "      <th>e_coli_result</th>\n",
       "      <th>intestinal_enterococci_result</th>\n",
       "      <th>sample_water_quality_status</th>\n",
       "    </tr>\n",
       "  </thead>\n",
       "  <tbody>\n",
       "    <tr>\n",
       "      <th>0</th>\n",
       "      <td>3168</td>\n",
       "      <td>IESEBWC050_0000_0100</td>\n",
       "      <td>Ardmore Beach</td>\n",
       "      <td>Waterford</td>\n",
       "      <td>Waterford City &amp; County Council</td>\n",
       "      <td>1450ard2205</td>\n",
       "      <td>2014-05-22</td>\n",
       "      <td>1</td>\n",
       "      <td>1</td>\n",
       "      <td>Excellent</td>\n",
       "    </tr>\n",
       "    <tr>\n",
       "      <th>1</th>\n",
       "      <td>3169</td>\n",
       "      <td>IESEBWC140_0000_0100</td>\n",
       "      <td>Clonea Beach</td>\n",
       "      <td>Waterford</td>\n",
       "      <td>Waterford City &amp; County Council</td>\n",
       "      <td>1450clonea2205</td>\n",
       "      <td>2014-05-22</td>\n",
       "      <td>1</td>\n",
       "      <td>1</td>\n",
       "      <td>Excellent</td>\n",
       "    </tr>\n",
       "    <tr>\n",
       "      <th>2</th>\n",
       "      <td>3170</td>\n",
       "      <td>IESEBWC100_0000_0100</td>\n",
       "      <td>Counsellors' Strand, Dunmore East</td>\n",
       "      <td>Waterford</td>\n",
       "      <td>Waterford City &amp; County Council</td>\n",
       "      <td>1450counc2205</td>\n",
       "      <td>2014-05-22</td>\n",
       "      <td>&lt;1</td>\n",
       "      <td>1</td>\n",
       "      <td>Excellent</td>\n",
       "    </tr>\n",
       "    <tr>\n",
       "      <th>3</th>\n",
       "      <td>3171</td>\n",
       "      <td>IESEBWC100_0000_0200</td>\n",
       "      <td>Dunmore Strand, Dunmore East</td>\n",
       "      <td>Waterford</td>\n",
       "      <td>Waterford City &amp; County Council</td>\n",
       "      <td>1450dunstrand2205</td>\n",
       "      <td>2014-05-22</td>\n",
       "      <td>124</td>\n",
       "      <td>12</td>\n",
       "      <td>Excellent</td>\n",
       "    </tr>\n",
       "    <tr>\n",
       "      <th>4</th>\n",
       "      <td>3172</td>\n",
       "      <td>IESEBWC110_0000_0100</td>\n",
       "      <td>Tramore Beach</td>\n",
       "      <td>Waterford</td>\n",
       "      <td>Waterford City &amp; County Council</td>\n",
       "      <td>1450tram2205</td>\n",
       "      <td>2014-05-22</td>\n",
       "      <td>1</td>\n",
       "      <td>1</td>\n",
       "      <td>Excellent</td>\n",
       "    </tr>\n",
       "  </tbody>\n",
       "</table>\n",
       "</div>"
      ],
      "text/plain": [
       "   monitoring_result_id              beach_id  \\\n",
       "0                  3168  IESEBWC050_0000_0100   \n",
       "1                  3169  IESEBWC140_0000_0100   \n",
       "2                  3170  IESEBWC100_0000_0100   \n",
       "3                  3171  IESEBWC100_0000_0200   \n",
       "4                  3172  IESEBWC110_0000_0100   \n",
       "\n",
       "                          beach_name county_name  \\\n",
       "0                      Ardmore Beach   Waterford   \n",
       "1                       Clonea Beach   Waterford   \n",
       "2  Counsellors' Strand, Dunmore East   Waterford   \n",
       "3       Dunmore Strand, Dunmore East   Waterford   \n",
       "4                      Tramore Beach   Waterford   \n",
       "\n",
       "              local_authority_name           sample_code result_date  \\\n",
       "0  Waterford City & County Council  1450ard2205           2014-05-22   \n",
       "1  Waterford City & County Council  1450clonea2205        2014-05-22   \n",
       "2  Waterford City & County Council  1450counc2205         2014-05-22   \n",
       "3  Waterford City & County Council  1450dunstrand2205     2014-05-22   \n",
       "4  Waterford City & County Council  1450tram2205          2014-05-22   \n",
       "\n",
       "  e_coli_result intestinal_enterococci_result sample_water_quality_status  \n",
       "0             1                             1                   Excellent  \n",
       "1             1                             1                   Excellent  \n",
       "2            <1                             1                   Excellent  \n",
       "3           124                            12                   Excellent  \n",
       "4             1                             1                   Excellent  "
      ]
     },
     "execution_count": 4,
     "metadata": {},
     "output_type": "execute_result"
    }
   ],
   "source": [
    "df.head()"
   ]
  },
  {
   "cell_type": "code",
   "execution_count": 5,
   "id": "15d81ea4",
   "metadata": {},
   "outputs": [
    {
     "name": "stdout",
     "output_type": "stream",
     "text": [
      "<class 'pandas.core.frame.DataFrame'>\n",
      "RangeIndex: 21859 entries, 0 to 21858\n",
      "Data columns (total 10 columns):\n",
      " #   Column                         Non-Null Count  Dtype \n",
      "---  ------                         --------------  ----- \n",
      " 0   monitoring_result_id           21859 non-null  int64 \n",
      " 1   beach_id                       21859 non-null  object\n",
      " 2   beach_name                     21859 non-null  object\n",
      " 3   county_name                    21859 non-null  object\n",
      " 4   local_authority_name           21859 non-null  object\n",
      " 5   sample_code                    21859 non-null  object\n",
      " 6   result_date                    21859 non-null  object\n",
      " 7   e_coli_result                  21859 non-null  object\n",
      " 8   intestinal_enterococci_result  21859 non-null  object\n",
      " 9   sample_water_quality_status    21859 non-null  object\n",
      "dtypes: int64(1), object(9)\n",
      "memory usage: 1.7+ MB\n"
     ]
    }
   ],
   "source": [
    "df.info()"
   ]
  },
  {
   "cell_type": "code",
   "execution_count": 6,
   "id": "d1130846",
   "metadata": {},
   "outputs": [
    {
     "name": "stdout",
     "output_type": "stream",
     "text": [
      "\n",
      "Number of duplicate rows: 0\n"
     ]
    }
   ],
   "source": [
    "print(f\"\\nNumber of duplicate rows: {df.duplicated().sum()}\")"
   ]
  },
  {
   "cell_type": "code",
   "execution_count": 7,
   "id": "1acaf4bf",
   "metadata": {},
   "outputs": [
    {
     "name": "stdout",
     "output_type": "stream",
     "text": [
      "\n",
      "Number of unique values per column:\n",
      "monitoring_result_id: 21859\n",
      "beach_id: 237\n",
      "beach_name: 235\n",
      "county_name: 18\n",
      "local_authority_name: 21\n",
      "sample_code: 21853\n",
      "result_date: 726\n",
      "e_coli_result: 585\n",
      "intestinal_enterococci_result: 311\n",
      "sample_water_quality_status: 4\n"
     ]
    }
   ],
   "source": [
    "print(\"\\nNumber of unique values per column:\")\n",
    "for col in df.columns:\n",
    "    print(f\"{col}: {df[col].nunique()}\")"
   ]
  },
  {
   "cell_type": "markdown",
   "id": "295e262f",
   "metadata": {},
   "source": [
    "## 2.1 Dropping unwanted columns"
   ]
  },
  {
   "cell_type": "code",
   "execution_count": 8,
   "id": "02aa667f",
   "metadata": {},
   "outputs": [
    {
     "name": "stdout",
     "output_type": "stream",
     "text": [
      "\n",
      "After Dropping Unwanted Columns:\n"
     ]
    },
    {
     "data": {
      "application/vnd.microsoft.datawrangler.viewer.v0+json": {
       "columns": [
        {
         "name": "index",
         "rawType": "int64",
         "type": "integer"
        },
        {
         "name": "beach_name",
         "rawType": "object",
         "type": "string"
        },
        {
         "name": "county_name",
         "rawType": "object",
         "type": "string"
        },
        {
         "name": "local_authority_name",
         "rawType": "object",
         "type": "string"
        },
        {
         "name": "e_coli_result",
         "rawType": "object",
         "type": "string"
        },
        {
         "name": "intestinal_enterococci_result",
         "rawType": "object",
         "type": "string"
        }
       ],
       "conversionMethod": "pd.DataFrame",
       "ref": "31becdeb-6e07-40fe-b4cb-bad63d575e51",
       "rows": [
        [
         "0",
         "Ardmore Beach",
         "Waterford",
         "Waterford City & County Council",
         "1",
         "1"
        ],
        [
         "1",
         "Clonea Beach",
         "Waterford",
         "Waterford City & County Council",
         "1",
         "1"
        ],
        [
         "2",
         "Counsellors' Strand, Dunmore East",
         "Waterford",
         "Waterford City & County Council",
         "<1",
         "1"
        ],
        [
         "3",
         "Dunmore Strand, Dunmore East",
         "Waterford",
         "Waterford City & County Council",
         "124",
         "12"
        ],
        [
         "4",
         "Tramore Beach",
         "Waterford",
         "Waterford City & County Council",
         "1",
         "1"
        ]
       ],
       "shape": {
        "columns": 5,
        "rows": 5
       }
      },
      "text/html": [
       "<div>\n",
       "<style scoped>\n",
       "    .dataframe tbody tr th:only-of-type {\n",
       "        vertical-align: middle;\n",
       "    }\n",
       "\n",
       "    .dataframe tbody tr th {\n",
       "        vertical-align: top;\n",
       "    }\n",
       "\n",
       "    .dataframe thead th {\n",
       "        text-align: right;\n",
       "    }\n",
       "</style>\n",
       "<table border=\"1\" class=\"dataframe\">\n",
       "  <thead>\n",
       "    <tr style=\"text-align: right;\">\n",
       "      <th></th>\n",
       "      <th>beach_name</th>\n",
       "      <th>county_name</th>\n",
       "      <th>local_authority_name</th>\n",
       "      <th>e_coli_result</th>\n",
       "      <th>intestinal_enterococci_result</th>\n",
       "    </tr>\n",
       "  </thead>\n",
       "  <tbody>\n",
       "    <tr>\n",
       "      <th>0</th>\n",
       "      <td>Ardmore Beach</td>\n",
       "      <td>Waterford</td>\n",
       "      <td>Waterford City &amp; County Council</td>\n",
       "      <td>1</td>\n",
       "      <td>1</td>\n",
       "    </tr>\n",
       "    <tr>\n",
       "      <th>1</th>\n",
       "      <td>Clonea Beach</td>\n",
       "      <td>Waterford</td>\n",
       "      <td>Waterford City &amp; County Council</td>\n",
       "      <td>1</td>\n",
       "      <td>1</td>\n",
       "    </tr>\n",
       "    <tr>\n",
       "      <th>2</th>\n",
       "      <td>Counsellors' Strand, Dunmore East</td>\n",
       "      <td>Waterford</td>\n",
       "      <td>Waterford City &amp; County Council</td>\n",
       "      <td>&lt;1</td>\n",
       "      <td>1</td>\n",
       "    </tr>\n",
       "    <tr>\n",
       "      <th>3</th>\n",
       "      <td>Dunmore Strand, Dunmore East</td>\n",
       "      <td>Waterford</td>\n",
       "      <td>Waterford City &amp; County Council</td>\n",
       "      <td>124</td>\n",
       "      <td>12</td>\n",
       "    </tr>\n",
       "    <tr>\n",
       "      <th>4</th>\n",
       "      <td>Tramore Beach</td>\n",
       "      <td>Waterford</td>\n",
       "      <td>Waterford City &amp; County Council</td>\n",
       "      <td>1</td>\n",
       "      <td>1</td>\n",
       "    </tr>\n",
       "  </tbody>\n",
       "</table>\n",
       "</div>"
      ],
      "text/plain": [
       "                          beach_name county_name  \\\n",
       "0                      Ardmore Beach   Waterford   \n",
       "1                       Clonea Beach   Waterford   \n",
       "2  Counsellors' Strand, Dunmore East   Waterford   \n",
       "3       Dunmore Strand, Dunmore East   Waterford   \n",
       "4                      Tramore Beach   Waterford   \n",
       "\n",
       "              local_authority_name e_coli_result intestinal_enterococci_result  \n",
       "0  Waterford City & County Council             1                             1  \n",
       "1  Waterford City & County Council             1                             1  \n",
       "2  Waterford City & County Council            <1                             1  \n",
       "3  Waterford City & County Council           124                            12  \n",
       "4  Waterford City & County Council             1                             1  "
      ]
     },
     "execution_count": 8,
     "metadata": {},
     "output_type": "execute_result"
    }
   ],
   "source": [
    "unwanted_columns = ['monitoring_result_id', 'beach_id', 'sample_code', 'result_date', 'sample_water_quality_status'] \n",
    "df.drop(columns=unwanted_columns, axis=1, inplace=True,errors='ignore')\n",
    "print(\"\\nAfter Dropping Unwanted Columns:\")\n",
    "df.head()"
   ]
  },
  {
   "cell_type": "markdown",
   "id": "971a627e",
   "metadata": {},
   "source": [
    "## 2.2 Handling Missing Data"
   ]
  },
  {
   "cell_type": "code",
   "execution_count": 9,
   "id": "59955e7c",
   "metadata": {},
   "outputs": [
    {
     "name": "stdout",
     "output_type": "stream",
     "text": [
      "\n",
      "Missing Data Before Handling:\n"
     ]
    },
    {
     "data": {
      "text/plain": [
       "beach_name                       0\n",
       "county_name                      0\n",
       "local_authority_name             0\n",
       "e_coli_result                    0\n",
       "intestinal_enterococci_result    0\n",
       "dtype: int64"
      ]
     },
     "execution_count": 9,
     "metadata": {},
     "output_type": "execute_result"
    }
   ],
   "source": [
    "print(\"\\nMissing Data Before Handling:\")\n",
    "df.isna().sum()"
   ]
  },
  {
   "cell_type": "code",
   "execution_count": 10,
   "id": "349768c4",
   "metadata": {},
   "outputs": [
    {
     "name": "stdout",
     "output_type": "stream",
     "text": [
      "<class 'pandas.core.frame.DataFrame'>\n",
      "RangeIndex: 21859 entries, 0 to 21858\n",
      "Data columns (total 5 columns):\n",
      " #   Column                         Non-Null Count  Dtype \n",
      "---  ------                         --------------  ----- \n",
      " 0   beach_name                     21859 non-null  object\n",
      " 1   county_name                    21859 non-null  object\n",
      " 2   local_authority_name           21859 non-null  object\n",
      " 3   e_coli_result                  21859 non-null  object\n",
      " 4   intestinal_enterococci_result  21859 non-null  object\n",
      "dtypes: object(5)\n",
      "memory usage: 854.0+ KB\n"
     ]
    }
   ],
   "source": [
    "df.info()"
   ]
  },
  {
   "cell_type": "markdown",
   "id": "efbd2dd6",
   "metadata": {},
   "source": [
    "## 2.3 Transformation"
   ]
  },
  {
   "cell_type": "code",
   "execution_count": null,
   "id": "90937f8c",
   "metadata": {},
   "outputs": [],
   "source": [
    "def convert_to_numeric(value):\n",
    "    \"\"\"\n",
    "    Converts a value to numeric, handling non-numeric characters.\n",
    "\n",
    "    Args:\n",
    "        value: The value to convert.\n",
    "\n",
    "    Returns:\n",
    "        float: The numeric value, or np.nan if conversion fails.\n",
    "    \"\"\"\n",
    "    if isinstance(value, (int, float)):\n",
    "        return value\n",
    "    if isinstance(value, str):\n",
    "        value = value.strip()\n",
    "        if value.startswith('<') or value.startswith('>') :\n",
    "            return float(value[1:]) / 2\n",
    "        try:\n",
    "            return float(value)\n",
    "        except ValueError:\n",
    "            return np.nan\n",
    "    return np.nan"
   ]
  },
  {
   "cell_type": "code",
   "execution_count": 12,
   "id": "2a5a9c66",
   "metadata": {},
   "outputs": [],
   "source": [
    "df['e_coli_result'] = df['e_coli_result'].apply(convert_to_numeric)\n",
    "df['intestinal_enterococci_result'] = df['intestinal_enterococci_result'].apply(convert_to_numeric)"
   ]
  },
  {
   "cell_type": "code",
   "execution_count": 14,
   "id": "7a150467",
   "metadata": {},
   "outputs": [
    {
     "data": {
      "text/plain": [
       "beach_name                       0\n",
       "county_name                      0\n",
       "local_authority_name             0\n",
       "e_coli_result                    0\n",
       "intestinal_enterococci_result    0\n",
       "dtype: int64"
      ]
     },
     "execution_count": 14,
     "metadata": {},
     "output_type": "execute_result"
    }
   ],
   "source": [
    "df.isna().sum()"
   ]
  },
  {
   "cell_type": "markdown",
   "id": "7aefc32a",
   "metadata": {},
   "source": [
    "## 2.4 Handling Outliers"
   ]
  },
  {
   "cell_type": "code",
   "execution_count": 15,
   "id": "51ed984c",
   "metadata": {},
   "outputs": [],
   "source": [
    "numerical_cols = ['e_coli_result', 'intestinal_enterococci_result']"
   ]
  },
  {
   "cell_type": "code",
   "execution_count": 16,
   "id": "3402ffaf",
   "metadata": {},
   "outputs": [
    {
     "name": "stdout",
     "output_type": "stream",
     "text": [
      "Shape before outlier removal: (21859, 5)\n"
     ]
    }
   ],
   "source": [
    "print(f\"Shape before outlier removal: {df.shape}\")"
   ]
  },
  {
   "cell_type": "code",
   "execution_count": 17,
   "id": "66efbec8",
   "metadata": {},
   "outputs": [
    {
     "data": {
      "image/png": "[encoded data removed]",
      "text/plain": [
       "<Figure size 800x400 with 1 Axes>"
      ]
     },
     "metadata": {},
     "output_type": "display_data"
    },
    {
     "data": {
      "image/png": "[encoded data removed]",
      "text/plain": [
       "<Figure size 800x400 with 1 Axes>"
      ]
     },
     "metadata": {},
     "output_type": "display_data"
    }
   ],
   "source": [
    "for i, col in enumerate(numerical_cols):\n",
    "    plt.figure(figsize=(8, 4))\n",
    "    sns.boxplot(y=df[col])\n",
    "    plt.title(f'Boxplot of {col}')\n",
    "plt.tight_layout()\n",
    "plt.show()"
   ]
  },
  {
   "cell_type": "code",
   "execution_count": 20,
   "id": "02da1696",
   "metadata": {},
   "outputs": [],
   "source": [
    "for col in numerical_cols:\n",
    "    z_scores = np.abs(zscore(df[col]))\n",
    "    df = df[z_scores <= 3]"
   ]
  },
  {
   "cell_type": "code",
   "execution_count": 21,
   "id": "82ce0d55",
   "metadata": {},
   "outputs": [
    {
     "name": "stdout",
     "output_type": "stream",
     "text": [
      "Shape after outlier removal: (20695, 5)\n"
     ]
    }
   ],
   "source": [
    "print(f\"Shape after outlier removal: {df.shape}\")"
   ]
  },
  {
   "cell_type": "markdown",
   "id": "2ed37fac",
   "metadata": {},
   "source": [
    "# 3. Exploratory Data Analysis (EDA)"
   ]
  },
  {
   "cell_type": "markdown",
   "id": "56791768",
   "metadata": {},
   "source": [
    "## 3.1 Descriptive Statistics"
   ]
  },
  {
   "cell_type": "code",
   "execution_count": 22,
   "id": "80258b55",
   "metadata": {},
   "outputs": [
    {
     "data": {
      "application/vnd.microsoft.datawrangler.viewer.v0+json": {
       "columns": [
        {
         "name": "index",
         "rawType": "object",
         "type": "string"
        },
        {
         "name": "e_coli_result",
         "rawType": "float64",
         "type": "float"
        },
        {
         "name": "intestinal_enterococci_result",
         "rawType": "float64",
         "type": "float"
        }
       ],
       "conversionMethod": "pd.DataFrame",
       "ref": "ab9133df-9d88-4c80-a4ea-053a4d7a993d",
       "rows": [
        [
         "count",
         "20695.0",
         "20695.0"
        ],
        [
         "mean",
         "30.280140130466297",
         "8.728122734960134"
        ],
        [
         "std",
         "53.92270572399516",
         "14.393357708937945"
        ],
        [
         "min",
         "0.0",
         "0.0"
        ],
        [
         "25%",
         "5.0",
         "1.0"
        ],
        [
         "50%",
         "8.0",
         "3.0"
        ],
        [
         "75%",
         "31.0",
         "9.0"
        ],
        [
         "max",
         "369.0",
         "93.0"
        ]
       ],
       "shape": {
        "columns": 2,
        "rows": 8
       }
      },
      "text/html": [
       "<div>\n",
       "<style scoped>\n",
       "    .dataframe tbody tr th:only-of-type {\n",
       "        vertical-align: middle;\n",
       "    }\n",
       "\n",
       "    .dataframe tbody tr th {\n",
       "        vertical-align: top;\n",
       "    }\n",
       "\n",
       "    .dataframe thead th {\n",
       "        text-align: right;\n",
       "    }\n",
       "</style>\n",
       "<table border=\"1\" class=\"dataframe\">\n",
       "  <thead>\n",
       "    <tr style=\"text-align: right;\">\n",
       "      <th></th>\n",
       "      <th>e_coli_result</th>\n",
       "      <th>intestinal_enterococci_result</th>\n",
       "    </tr>\n",
       "  </thead>\n",
       "  <tbody>\n",
       "    <tr>\n",
       "      <th>count</th>\n",
       "      <td>20695.000000</td>\n",
       "      <td>20695.000000</td>\n",
       "    </tr>\n",
       "    <tr>\n",
       "      <th>mean</th>\n",
       "      <td>30.280140</td>\n",
       "      <td>8.728123</td>\n",
       "    </tr>\n",
       "    <tr>\n",
       "      <th>std</th>\n",
       "      <td>53.922706</td>\n",
       "      <td>14.393358</td>\n",
       "    </tr>\n",
       "    <tr>\n",
       "      <th>min</th>\n",
       "      <td>0.000000</td>\n",
       "      <td>0.000000</td>\n",
       "    </tr>\n",
       "    <tr>\n",
       "      <th>25%</th>\n",
       "      <td>5.000000</td>\n",
       "      <td>1.000000</td>\n",
       "    </tr>\n",
       "    <tr>\n",
       "      <th>50%</th>\n",
       "      <td>8.000000</td>\n",
       "      <td>3.000000</td>\n",
       "    </tr>\n",
       "    <tr>\n",
       "      <th>75%</th>\n",
       "      <td>31.000000</td>\n",
       "      <td>9.000000</td>\n",
       "    </tr>\n",
       "    <tr>\n",
       "      <th>max</th>\n",
       "      <td>369.000000</td>\n",
       "      <td>93.000000</td>\n",
       "    </tr>\n",
       "  </tbody>\n",
       "</table>\n",
       "</div>"
      ],
      "text/plain": [
       "       e_coli_result  intestinal_enterococci_result\n",
       "count   20695.000000                   20695.000000\n",
       "mean       30.280140                       8.728123\n",
       "std        53.922706                      14.393358\n",
       "min         0.000000                       0.000000\n",
       "25%         5.000000                       1.000000\n",
       "50%         8.000000                       3.000000\n",
       "75%        31.000000                       9.000000\n",
       "max       369.000000                      93.000000"
      ]
     },
     "execution_count": 22,
     "metadata": {},
     "output_type": "execute_result"
    }
   ],
   "source": [
    "numerical_desc = df.describe()\n",
    "numerical_desc"
   ]
  },
  {
   "cell_type": "code",
   "execution_count": 23,
   "id": "7531175f",
   "metadata": {},
   "outputs": [
    {
     "data": {
      "application/vnd.microsoft.datawrangler.viewer.v0+json": {
       "columns": [
        {
         "name": "index",
         "rawType": "object",
         "type": "string"
        },
        {
         "name": "beach_name",
         "rawType": "object",
         "type": "unknown"
        },
        {
         "name": "county_name",
         "rawType": "object",
         "type": "unknown"
        },
        {
         "name": "local_authority_name",
         "rawType": "object",
         "type": "unknown"
        }
       ],
       "conversionMethod": "pd.DataFrame",
       "ref": "76b7bdf0-6858-446d-b017-90abbed92da0",
       "rows": [
        [
         "count",
         "20695",
         "20695",
         "20695"
        ],
        [
         "unique",
         "235",
         "18",
         "21"
        ],
        [
         "top",
         "Seapoint",
         "Wexford",
         "Wexford County Council"
        ],
        [
         "freq",
         "393",
         "2656",
         "2656"
        ]
       ],
       "shape": {
        "columns": 3,
        "rows": 4
       }
      },
      "text/html": [
       "<div>\n",
       "<style scoped>\n",
       "    .dataframe tbody tr th:only-of-type {\n",
       "        vertical-align: middle;\n",
       "    }\n",
       "\n",
       "    .dataframe tbody tr th {\n",
       "        vertical-align: top;\n",
       "    }\n",
       "\n",
       "    .dataframe thead th {\n",
       "        text-align: right;\n",
       "    }\n",
       "</style>\n",
       "<table border=\"1\" class=\"dataframe\">\n",
       "  <thead>\n",
       "    <tr style=\"text-align: right;\">\n",
       "      <th></th>\n",
       "      <th>beach_name</th>\n",
       "      <th>county_name</th>\n",
       "      <th>local_authority_name</th>\n",
       "    </tr>\n",
       "  </thead>\n",
       "  <tbody>\n",
       "    <tr>\n",
       "      <th>count</th>\n",
       "      <td>20695</td>\n",
       "      <td>20695</td>\n",
       "      <td>20695</td>\n",
       "    </tr>\n",
       "    <tr>\n",
       "      <th>unique</th>\n",
       "      <td>235</td>\n",
       "      <td>18</td>\n",
       "      <td>21</td>\n",
       "    </tr>\n",
       "    <tr>\n",
       "      <th>top</th>\n",
       "      <td>Seapoint</td>\n",
       "      <td>Wexford</td>\n",
       "      <td>Wexford County Council</td>\n",
       "    </tr>\n",
       "    <tr>\n",
       "      <th>freq</th>\n",
       "      <td>393</td>\n",
       "      <td>2656</td>\n",
       "      <td>2656</td>\n",
       "    </tr>\n",
       "  </tbody>\n",
       "</table>\n",
       "</div>"
      ],
      "text/plain": [
       "       beach_name county_name    local_authority_name\n",
       "count       20695       20695                   20695\n",
       "unique        235          18                      21\n",
       "top      Seapoint     Wexford  Wexford County Council\n",
       "freq          393        2656                    2656"
      ]
     },
     "execution_count": 23,
     "metadata": {},
     "output_type": "execute_result"
    }
   ],
   "source": [
    "categorical_desc = df.describe(exclude=np.number)\n",
    "categorical_desc"
   ]
  },
  {
   "cell_type": "markdown",
   "id": "4c290220",
   "metadata": {},
   "source": [
    "## 3.3 Visualizations"
   ]
  },
  {
   "cell_type": "code",
   "execution_count": 24,
   "id": "4b1ff3fe",
   "metadata": {},
   "outputs": [
    {
     "data": {
      "image/png": "[encoded data removed]",
      "text/plain": [
       "<Figure size 1000x800 with 2 Axes>"
      ]
     },
     "metadata": {},
     "output_type": "display_data"
    }
   ],
   "source": [
    "# Calculate correlation matrix\n",
    "cor_matrix = df[numerical_cols].corr()\n",
    "\n",
    "# Visualize correlation matrix\n",
    "plt.figure(figsize=(10, 8))\n",
    "sns.heatmap(cor_matrix, annot=True, cmap='coolwarm', fmt='.2f')\n",
    "plt.title('Correlation Matrix')\n",
    "plt.show()"
   ]
  },
  {
   "cell_type": "code",
   "execution_count": 28,
   "id": "0115b91c",
   "metadata": {},
   "outputs": [
    {
     "data": {
      "image/png": "[encoded data removed]",
      "text/plain": [
       "<Figure size 800x400 with 1 Axes>"
      ]
     },
     "metadata": {},
     "output_type": "display_data"
    },
    {
     "data": {
      "image/png": "[encoded data removed]",
      "text/plain": [
       "<Figure size 800x400 with 1 Axes>"
      ]
     },
     "metadata": {},
     "output_type": "display_data"
    }
   ],
   "source": [
    "for col in numerical_cols:\n",
    "    plt.figure(figsize=(8, 4))\n",
    "    sns.histplot(df[col], kde=True, bins=30)\n",
    "    plt.title(f'Distribution of {col}')\n",
    "    plt.xlabel(col)\n",
    "    plt.ylabel('Frequency')\n",
    "    plt.show()\n"
   ]
  },
  {
   "cell_type": "code",
   "execution_count": 34,
   "id": "04b422a0",
   "metadata": {},
   "outputs": [
    {
     "data": {
      "text/plain": [
       "<Figure size 1000x600 with 0 Axes>"
      ]
     },
     "metadata": {},
     "output_type": "display_data"
    },
    {
     "data": {
      "image/png": "[encoded data removed]",
      "text/plain": [
       "<Figure size 500x500 with 6 Axes>"
      ]
     },
     "metadata": {},
     "output_type": "display_data"
    }
   ],
   "source": [
    "# Pairplot of E. coli and Intestinal Enterococci\n",
    "plt.figure(figsize=(10, 6))\n",
    "sns.pairplot(df[['e_coli_result', 'intestinal_enterococci_result']])\n",
    "plt.show()"
   ]
  },
  {
   "cell_type": "markdown",
   "id": "ca50fc73",
   "metadata": {},
   "source": [
    "# 4. Feature Engineering "
   ]
  },
  {
   "cell_type": "code",
   "execution_count": 35,
   "id": "88e43c37",
   "metadata": {},
   "outputs": [],
   "source": [
    "scaler = StandardScaler()\n",
    "df[numerical_cols] = scaler.fit_transform(df[numerical_cols])"
   ]
  },
  {
   "cell_type": "code",
   "execution_count": 36,
   "id": "93a7da96",
   "metadata": {},
   "outputs": [],
   "source": [
    "categorical_cols = ['county_name', 'beach_name','local_authority_name']\n",
    "encoder = OneHotEncoder(handle_unknown='ignore')\n",
    "encoded_cols = encoder.fit_transform(df[categorical_cols])\n",
    "encoded_df = pd.DataFrame(encoded_cols.toarray(), columns=encoder.get_feature_names_out(categorical_cols))\n",
    "\n",
    "# Combine the encoded columns with the numerical columns\n",
    "df_encoded = pd.concat([df.drop(categorical_cols, axis=1), encoded_df], axis=1)"
   ]
  },
  {
   "cell_type": "code",
   "execution_count": 38,
   "id": "c2a4c73a",
   "metadata": {},
   "outputs": [
    {
     "data": {
      "text/plain": [
       "e_coli_result                                           1109\n",
       "intestinal_enterococci_result                           1109\n",
       "county_name_Carlow                                      1109\n",
       "county_name_Clare                                       1109\n",
       "county_name_Cork                                        1109\n",
       "                                                        ... \n",
       "local_authority_name_Tipperary County Council           1109\n",
       "local_authority_name_Waterford City & County Council    1109\n",
       "local_authority_name_Westmeath County Council           1109\n",
       "local_authority_name_Wexford County Council             1109\n",
       "local_authority_name_Wicklow County Council             1109\n",
       "Length: 276, dtype: int64"
      ]
     },
     "execution_count": 38,
     "metadata": {},
     "output_type": "execute_result"
    }
   ],
   "source": [
    "df_encoded.isna().sum()"
   ]
  },
  {
   "cell_type": "code",
   "execution_count": 39,
   "id": "b3697f41",
   "metadata": {},
   "outputs": [],
   "source": [
    "df_encoded.dropna(inplace=True)"
   ]
  },
  {
   "cell_type": "code",
   "execution_count": 40,
   "id": "8c5c8042",
   "metadata": {},
   "outputs": [
    {
     "data": {
      "text/plain": [
       "e_coli_result                                           0\n",
       "intestinal_enterococci_result                           0\n",
       "county_name_Carlow                                      0\n",
       "county_name_Clare                                       0\n",
       "county_name_Cork                                        0\n",
       "                                                       ..\n",
       "local_authority_name_Tipperary County Council           0\n",
       "local_authority_name_Waterford City & County Council    0\n",
       "local_authority_name_Westmeath County Council           0\n",
       "local_authority_name_Wexford County Council             0\n",
       "local_authority_name_Wicklow County Council             0\n",
       "Length: 276, dtype: int64"
      ]
     },
     "execution_count": 40,
     "metadata": {},
     "output_type": "execute_result"
    }
   ],
   "source": [
    "df_encoded.isna().sum()"
   ]
  },
  {
   "cell_type": "markdown",
   "id": "503f660b",
   "metadata": {},
   "source": [
    "# 5. Model Selection and Training"
   ]
  },
  {
   "cell_type": "markdown",
   "id": "0d42b751",
   "metadata": {},
   "source": [
    "## K-Means Clustering without PCA"
   ]
  },
  {
   "cell_type": "code",
   "execution_count": null,
   "id": "f4f2b018",
   "metadata": {},
   "outputs": [
    {
     "name": "stdout",
     "output_type": "stream",
     "text": [
      "\n",
      "K-Means Clustering:\n"
     ]
    }
   ],
   "source": [
    "silhouette_scores_kmeans = []\n",
    "inertia_values = []\n",
    "k_range = range(2, 11) \n",
    "\n",
    "for k in k_range:\n",
    "    kmeans = KMeans(n_clusters=k, random_state=42)\n",
    "    kmeans.fit(df_encoded)\n",
    "    silhouette_scores_kmeans.append(silhouette_score(df_encoded, kmeans.labels_))\n",
    "    inertia_values.append(kmeans.inertia_)\n",
    "    "
   ]
  },
  {
   "cell_type": "code",
   "execution_count": 42,
   "id": "0d7e61bc",
   "metadata": {},
   "outputs": [
    {
     "data": {
      "image/png": "[encoded data removed]",
      "text/plain": [
       "<Figure size 800x600 with 1 Axes>"
      ]
     },
     "metadata": {},
     "output_type": "display_data"
    }
   ],
   "source": [
    "# Plot Silhouette Scores\n",
    "plt.figure(figsize=(8, 6))\n",
    "plt.plot(k_range, silhouette_scores_kmeans, marker='o')\n",
    "plt.xlabel('Number of Clusters (k)')\n",
    "plt.ylabel('Silhouette Score')\n",
    "plt.title('Silhouette Score for Optimal k - K-Means')\n",
    "plt.xticks(k_range)\n",
    "plt.show()"
   ]
  },
  {
   "cell_type": "code",
   "execution_count": 43,
   "id": "5e64269a",
   "metadata": {},
   "outputs": [
    {
     "data": {
      "image/png": "[encoded data removed]",
      "text/plain": [
       "<Figure size 800x600 with 1 Axes>"
      ]
     },
     "metadata": {},
     "output_type": "display_data"
    }
   ],
   "source": [
    "# Plot Elbow Method\n",
    "plt.figure(figsize=(8, 6))\n",
    "plt.plot(k_range, inertia_values, marker='o')\n",
    "plt.title('K-Means Elbow Method')\n",
    "plt.xlabel('Number of Clusters (k)')\n",
    "plt.ylabel('Inertia')\n",
    "plt.tight_layout()\n",
    "plt.show()"
   ]
  },
  {
   "cell_type": "code",
   "execution_count": 44,
   "id": "c0a32053",
   "metadata": {},
   "outputs": [
    {
     "name": "stdout",
     "output_type": "stream",
     "text": [
      "Optimal number of clusters (k) for K-Means: 2\n"
     ]
    }
   ],
   "source": [
    "# Select the best k based on the Silhouette Score\n",
    "best_k_kmeans = k_range[np.argmax(silhouette_scores_kmeans)]\n",
    "print(f\"Optimal number of clusters (k) for K-Means: {best_k_kmeans}\")\n",
    "\n",
    "# Train K-Means with the optimal k\n",
    "kmeans = KMeans(n_clusters=best_k_kmeans, random_state=42)\n",
    "kmeans.fit_predict(df_encoded)\n",
    "kmeans_labels = kmeans.labels_"
   ]
  },
  {
   "cell_type": "code",
   "execution_count": 45,
   "id": "ef887dc3",
   "metadata": {},
   "outputs": [
    {
     "data": {
      "text/plain": [
       "array([0, 0, 0, ..., 0, 0, 0], shape=(19586,), dtype=int32)"
      ]
     },
     "execution_count": 45,
     "metadata": {},
     "output_type": "execute_result"
    }
   ],
   "source": [
    "kmeans_labels"
   ]
  },
  {
   "cell_type": "code",
   "execution_count": 47,
   "id": "439bf030",
   "metadata": {},
   "outputs": [],
   "source": [
    "df_encoded['kmeans_cluster'] = kmeans_labels"
   ]
  },
  {
   "cell_type": "code",
   "execution_count": 48,
   "id": "c4f6d7d0",
   "metadata": {},
   "outputs": [
    {
     "data": {
      "application/vnd.microsoft.datawrangler.viewer.v0+json": {
       "columns": [
        {
         "name": "index",
         "rawType": "int64",
         "type": "integer"
        },
        {
         "name": "e_coli_result",
         "rawType": "float64",
         "type": "float"
        },
        {
         "name": "intestinal_enterococci_result",
         "rawType": "float64",
         "type": "float"
        },
        {
         "name": "county_name_Carlow",
         "rawType": "float64",
         "type": "float"
        },
        {
         "name": "county_name_Clare",
         "rawType": "float64",
         "type": "float"
        },
        {
         "name": "county_name_Cork",
         "rawType": "float64",
         "type": "float"
        },
        {
         "name": "county_name_Donegal",
         "rawType": "float64",
         "type": "float"
        },
        {
         "name": "county_name_Dublin",
         "rawType": "float64",
         "type": "float"
        },
        {
         "name": "county_name_Galway",
         "rawType": "float64",
         "type": "float"
        },
        {
         "name": "county_name_Kerry",
         "rawType": "float64",
         "type": "float"
        },
        {
         "name": "county_name_Leitrim",
         "rawType": "float64",
         "type": "float"
        },
        {
         "name": "county_name_Louth",
         "rawType": "float64",
         "type": "float"
        },
        {
         "name": "county_name_Mayo",
         "rawType": "float64",
         "type": "float"
        },
        {
         "name": "county_name_Meath",
         "rawType": "float64",
         "type": "float"
        },
        {
         "name": "county_name_Monaghan",
         "rawType": "float64",
         "type": "float"
        },
        {
         "name": "county_name_Sligo",
         "rawType": "float64",
         "type": "float"
        },
        {
         "name": "county_name_Tipperary",
         "rawType": "float64",
         "type": "float"
        },
        {
         "name": "county_name_Waterford",
         "rawType": "float64",
         "type": "float"
        },
        {
         "name": "county_name_Westmeath",
         "rawType": "float64",
         "type": "float"
        },
        {
         "name": "county_name_Wexford",
         "rawType": "float64",
         "type": "float"
        },
        {
         "name": "county_name_Wicklow",
         "rawType": "float64",
         "type": "float"
        },
        {
         "name": "beach_name_Aillebrack/Silverhill Beach",
         "rawType": "float64",
         "type": "float"
        },
        {
         "name": "beach_name_An Trá Mór, Coill Rua, Indreabhán",
         "rawType": "float64",
         "type": "float"
        },
        {
         "name": "beach_name_An Trá Mór, Gorumna Island",
         "rawType": "float64",
         "type": "float"
        },
        {
         "name": "beach_name_Annestown",
         "rawType": "float64",
         "type": "float"
        },
        {
         "name": "beach_name_Ardmore Beach",
         "rawType": "float64",
         "type": "float"
        },
        {
         "name": "beach_name_Ardnahinch",
         "rawType": "float64",
         "type": "float"
        },
        {
         "name": "beach_name_Arklow South Beach",
         "rawType": "float64",
         "type": "float"
        },
        {
         "name": "beach_name_Baginbun",
         "rawType": "float64",
         "type": "float"
        },
        {
         "name": "beach_name_Baile an Sceilg (Ballinskelligs)",
         "rawType": "float64",
         "type": "float"
        },
        {
         "name": "beach_name_Balbriggan, Front Strand Beach",
         "rawType": "float64",
         "type": "float"
        },
        {
         "name": "beach_name_Ballinesker",
         "rawType": "float64",
         "type": "float"
        },
        {
         "name": "beach_name_Ballyallia Lake, Ennis",
         "rawType": "float64",
         "type": "float"
        },
        {
         "name": "beach_name_Ballybunnion North ",
         "rawType": "float64",
         "type": "float"
        },
        {
         "name": "beach_name_Ballybunnion South",
         "rawType": "float64",
         "type": "float"
        },
        {
         "name": "beach_name_Ballycuggeran",
         "rawType": "float64",
         "type": "float"
        },
        {
         "name": "beach_name_Ballyhealy",
         "rawType": "float64",
         "type": "float"
        },
        {
         "name": "beach_name_Ballyheigue",
         "rawType": "float64",
         "type": "float"
        },
        {
         "name": "beach_name_Ballyhiernan, Fanad",
         "rawType": "float64",
         "type": "float"
        },
        {
         "name": "beach_name_Ballyloughane Beach",
         "rawType": "float64",
         "type": "float"
        },
        {
         "name": "beach_name_Ballymoney, North Beach",
         "rawType": "float64",
         "type": "float"
        },
        {
         "name": "beach_name_Ballynamona Strand",
         "rawType": "float64",
         "type": "float"
        },
        {
         "name": "beach_name_Ballyquin",
         "rawType": "float64",
         "type": "float"
        },
        {
         "name": "beach_name_Ballyrisode",
         "rawType": "float64",
         "type": "float"
        },
        {
         "name": "beach_name_Ballyvooney",
         "rawType": "float64",
         "type": "float"
        },
        {
         "name": "beach_name_Banna Strand",
         "rawType": "float64",
         "type": "float"
        },
        {
         "name": "beach_name_Barley Cove",
         "rawType": "float64",
         "type": "float"
        },
        {
         "name": "beach_name_Bathing Place at Portumna",
         "rawType": "float64",
         "type": "float"
        },
        {
         "name": "beach_name_Bertra Beach, Murrisk",
         "rawType": "float64",
         "type": "float"
        },
        {
         "name": "beach_name_Bishopsquarter",
         "rawType": "float64",
         "type": "float"
        },
        {
         "name": "beach_name_Boatstrand",
         "rawType": "float64",
         "type": "float"
        },
        {
         "name": "beach_name_Booley Bay",
         "rawType": "float64",
         "type": "float"
        },
        {
         "name": "beach_name_Bray South Promenade",
         "rawType": "float64",
         "type": "float"
        },
        {
         "name": "beach_name_Brittas Bay North",
         "rawType": "float64",
         "type": "float"
        },
        {
         "name": "beach_name_Brittas Bay South",
         "rawType": "float64",
         "type": "float"
        },
        {
         "name": "beach_name_Bundoran",
         "rawType": "float64",
         "type": "float"
        },
        {
         "name": "beach_name_Bunmahon Beach",
         "rawType": "float64",
         "type": "float"
        },
        {
         "name": "beach_name_Béal Bán",
         "rawType": "float64",
         "type": "float"
        },
        {
         "name": "beach_name_Cadogans strand, Schull",
         "rawType": "float64",
         "type": "float"
        },
        {
         "name": "beach_name_Cahore",
         "rawType": "float64",
         "type": "float"
        },
        {
         "name": "beach_name_Cappagh Pier, Kilrush",
         "rawType": "float64",
         "type": "float"
        },
        {
         "name": "beach_name_Carne",
         "rawType": "float64",
         "type": "float"
        },
        {
         "name": "beach_name_Carrickfinn",
         "rawType": "float64",
         "type": "float"
        },
        {
         "name": "beach_name_Carrigaholt",
         "rawType": "float64",
         "type": "float"
        },
        {
         "name": "beach_name_Carrowmore Beach, Louisburgh",
         "rawType": "float64",
         "type": "float"
        },
        {
         "name": "beach_name_Carrowniskey, Louisburgh",
         "rawType": "float64",
         "type": "float"
        },
        {
         "name": "beach_name_Castlegregory",
         "rawType": "float64",
         "type": "float"
        },
        {
         "name": "beach_name_Cill Mhuirbhigh, Inis Mór",
         "rawType": "float64",
         "type": "float"
        },
        {
         "name": "beach_name_Clare Island, Louisburgh",
         "rawType": "float64",
         "type": "float"
        },
        {
         "name": "beach_name_Claremont Beach",
         "rawType": "float64",
         "type": "float"
        },
        {
         "name": "beach_name_Clifden Beach",
         "rawType": "float64",
         "type": "float"
        },
        {
         "name": "beach_name_Clogga",
         "rawType": "float64",
         "type": "float"
        },
        {
         "name": "beach_name_Clogherhead",
         "rawType": "float64",
         "type": "float"
        },
        {
         "name": "beach_name_Clonea Beach",
         "rawType": "float64",
         "type": "float"
        },
        {
         "name": "beach_name_Coolmaine",
         "rawType": "float64",
         "type": "float"
        },
        {
         "name": "beach_name_Counsellors' Strand, Dunmore East",
         "rawType": "float64",
         "type": "float"
        },
        {
         "name": "beach_name_Courtown, North Beach",
         "rawType": "float64",
         "type": "float"
        },
        {
         "name": "beach_name_Creevy Lake",
         "rawType": "float64",
         "type": "float"
        },
        {
         "name": "beach_name_Cromane",
         "rawType": "float64",
         "type": "float"
        },
        {
         "name": "beach_name_Cross Beach Louisburgh",
         "rawType": "float64",
         "type": "float"
        },
        {
         "name": "beach_name_Cross Beach, Belmullet",
         "rawType": "float64",
         "type": "float"
        },
        {
         "name": "beach_name_Culdaff",
         "rawType": "float64",
         "type": "float"
        },
        {
         "name": "beach_name_Cullenstown",
         "rawType": "float64",
         "type": "float"
        },
        {
         "name": "beach_name_Culletons Gap",
         "rawType": "float64",
         "type": "float"
        },
        {
         "name": "beach_name_Curracloe",
         "rawType": "float64",
         "type": "float"
        },
        {
         "name": "beach_name_Curragh",
         "rawType": "float64",
         "type": "float"
        },
        {
         "name": "beach_name_Céibh an Spidéil",
         "rawType": "float64",
         "type": "float"
        },
        {
         "name": "beach_name_Cúas Crom",
         "rawType": "float64",
         "type": "float"
        },
        {
         "name": "beach_name_Derrymore",
         "rawType": "float64",
         "type": "float"
        },
        {
         "name": "beach_name_Dog's Bay, Roundstone",
         "rawType": "float64",
         "type": "float"
        },
        {
         "name": "beach_name_Doire Fhíonáin (Derrynane)",
         "rawType": "float64",
         "type": "float"
        },
        {
         "name": "beach_name_Dollymount Strand",
         "rawType": "float64",
         "type": "float"
        },
        {
         "name": "beach_name_Donabate, Balcarrick Beach",
         "rawType": "float64",
         "type": "float"
        },
        {
         "name": "beach_name_Dooega Beach, Achill Island",
         "rawType": "float64",
         "type": "float"
        },
        {
         "name": "beach_name_Dooey",
         "rawType": "float64",
         "type": "float"
        },
        {
         "name": "beach_name_Dooneen Pier",
         "rawType": "float64",
         "type": "float"
        },
        {
         "name": "beach_name_Downings",
         "rawType": "float64",
         "type": "float"
        },
        {
         "name": "beach_name_Dromineer Beach",
         "rawType": "float64",
         "type": "float"
        },
        {
         "name": "beach_name_Drumnatinny",
         "rawType": "float64",
         "type": "float"
        },
        {
         "name": "beach_name_Dugort Beach, Achill Island",
         "rawType": "float64",
         "type": "float"
        },
        {
         "name": "beach_name_Dumhach",
         "rawType": "float64",
         "type": "float"
        },
        {
         "name": "beach_name_Duncannon",
         "rawType": "float64",
         "type": "float"
        },
        {
         "name": "beach_name_Dunmoran Beach",
         "rawType": "float64",
         "type": "float"
        },
        {
         "name": "beach_name_Dunmore Strand, Dunmore East",
         "rawType": "float64",
         "type": "float"
        },
        {
         "name": "beach_name_East End Inisbofin",
         "rawType": "float64",
         "type": "float"
        },
        {
         "name": "beach_name_Elly Bay, Belmullet",
         "rawType": "float64",
         "type": "float"
        },
        {
         "name": "beach_name_Emy Lough",
         "rawType": "float64",
         "type": "float"
        },
        {
         "name": "beach_name_Enniscrone Beach",
         "rawType": "float64",
         "type": "float"
        },
        {
         "name": "beach_name_Esker, Banagher",
         "rawType": "float64",
         "type": "float"
        },
        {
         "name": "beach_name_Fanore",
         "rawType": "float64",
         "type": "float"
        },
        {
         "name": "beach_name_Fenit",
         "rawType": "float64",
         "type": "float"
        },
        {
         "name": "beach_name_Fintra",
         "rawType": "float64",
         "type": "float"
        },
        {
         "name": "beach_name_Fionntrá (Ventry)",
         "rawType": "float64",
         "type": "float"
        },
        {
         "name": "beach_name_Forty Foot Bathing Place",
         "rawType": "float64",
         "type": "float"
        },
        {
         "name": "beach_name_Fountainstown",
         "rawType": "float64",
         "type": "float"
        },
        {
         "name": "beach_name_Galley Cove",
         "rawType": "float64",
         "type": "float"
        },
        {
         "name": "beach_name_Garnish",
         "rawType": "float64",
         "type": "float"
        },
        {
         "name": "beach_name_Garretstown",
         "rawType": "float64",
         "type": "float"
        },
        {
         "name": "beach_name_Garrylucas, White Strand",
         "rawType": "float64",
         "type": "float"
        },
        {
         "name": "beach_name_Garryvoe",
         "rawType": "float64",
         "type": "float"
        },
        {
         "name": "beach_name_Glassilaun, Killary",
         "rawType": "float64",
         "type": "float"
        },
        {
         "name": "beach_name_Goat Island",
         "rawType": "float64",
         "type": "float"
        },
        {
         "name": "beach_name_Goirtín, Cloch na Rón",
         "rawType": "float64",
         "type": "float"
        },
        {
         "name": "beach_name_Golden Strand, Achill Island",
         "rawType": "float64",
         "type": "float"
        },
        {
         "name": "beach_name_Gormanston Beach",
         "rawType": "float64",
         "type": "float"
        },
        {
         "name": "beach_name_Gortnawinney Lake",
         "rawType": "float64",
         "type": "float"
        },
        {
         "name": "beach_name_Grange",
         "rawType": "float64",
         "type": "float"
        },
        {
         "name": "beach_name_Grattan Road Beach",
         "rawType": "float64",
         "type": "float"
        },
        {
         "name": "beach_name_Greaghlone Lake",
         "rawType": "float64",
         "type": "float"
        },
        {
         "name": "beach_name_Greystones South",
         "rawType": "float64",
         "type": "float"
        },
        {
         "name": "beach_name_Guillamene",
         "rawType": "float64",
         "type": "float"
        },
        {
         "name": "beach_name_Half Moon",
         "rawType": "float64",
         "type": "float"
        },
        {
         "name": "beach_name_Halton's River (Dromore Lake System)",
         "rawType": "float64",
         "type": "float"
        },
        {
         "name": "beach_name_Hollywood Lake",
         "rawType": "float64",
         "type": "float"
        },
        {
         "name": "beach_name_Inch",
         "rawType": "float64",
         "type": "float"
        },
        {
         "name": "beach_name_Inchydoney East Beach",
         "rawType": "float64",
         "type": "float"
        },
        {
         "name": "beach_name_Inchydoney West Beach",
         "rawType": "float64",
         "type": "float"
        },
        {
         "name": "beach_name_Keel Beach, Achill Island",
         "rawType": "float64",
         "type": "float"
        },
        {
         "name": "beach_name_Keeldra Lough",
         "rawType": "float64",
         "type": "float"
        },
        {
         "name": "beach_name_Keem Beach, Achill Island",
         "rawType": "float64",
         "type": "float"
        },
        {
         "name": "beach_name_Kells",
         "rawType": "float64",
         "type": "float"
        },
        {
         "name": "beach_name_Kilcoole Beach",
         "rawType": "float64",
         "type": "float"
        },
        {
         "name": "beach_name_Kilfarrassey",
         "rawType": "float64",
         "type": "float"
        },
        {
         "name": "beach_name_Kilkee",
         "rawType": "float64",
         "type": "float"
        },
        {
         "name": "beach_name_Killahoey",
         "rawType": "float64",
         "type": "float"
        },
        {
         "name": "beach_name_Killiney",
         "rawType": "float64",
         "type": "float"
        },
        {
         "name": "beach_name_Kilmore Quay Small Beach",
         "rawType": "float64",
         "type": "float"
        },
        {
         "name": "beach_name_Lady's Bay, Buncrana",
         "rawType": "float64",
         "type": "float"
        },
        {
         "name": "beach_name_Lahinch",
         "rawType": "float64",
         "type": "float"
        },
        {
         "name": "beach_name_Laytown/Bettystown",
         "rawType": "float64",
         "type": "float"
        },
        {
         "name": "beach_name_Lilliput, Lough Ennell",
         "rawType": "float64",
         "type": "float"
        },
        {
         "name": "beach_name_Lisfannon",
         "rawType": "float64",
         "type": "float"
        },
        {
         "name": "beach_name_Littor beach",
         "rawType": "float64",
         "type": "float"
        },
        {
         "name": "beach_name_Lough Major - the beach",
         "rawType": "float64",
         "type": "float"
        },
        {
         "name": "beach_name_Lough Muckno  Water Sports Area",
         "rawType": "float64",
         "type": "float"
        },
        {
         "name": "beach_name_Lough Muckno Bathing Area",
         "rawType": "float64",
         "type": "float"
        },
        {
         "name": "beach_name_Lough Muckno _Black Island Point",
         "rawType": "float64",
         "type": "float"
        },
        {
         "name": "beach_name_Loughrea Lake",
         "rawType": "float64",
         "type": "float"
        },
        {
         "name": "beach_name_Loughshinny Beach",
         "rawType": "float64",
         "type": "float"
        },
        {
         "name": "beach_name_Magheraroarty",
         "rawType": "float64",
         "type": "float"
        },
        {
         "name": "beach_name_Maharabeg",
         "rawType": "float64",
         "type": "float"
        },
        {
         "name": "beach_name_Mannin Bay, Ballyconneely",
         "rawType": "float64",
         "type": "float"
        },
        {
         "name": "beach_name_Marble Hill",
         "rawType": "float64",
         "type": "float"
        },
        {
         "name": "beach_name_Merrion Strand",
         "rawType": "float64",
         "type": "float"
        },
        {
         "name": "beach_name_Mornington",
         "rawType": "float64",
         "type": "float"
        },
        {
         "name": "beach_name_Morriscastle",
         "rawType": "float64",
         "type": "float"
        },
        {
         "name": "beach_name_Mountshannon, Lough Derg",
         "rawType": "float64",
         "type": "float"
        },
        {
         "name": "beach_name_Mullaghmore Beach",
         "rawType": "float64",
         "type": "float"
        },
        {
         "name": "beach_name_Mullaghroe Beach, Belmullet",
         "rawType": "float64",
         "type": "float"
        },
        {
         "name": "beach_name_Mulranny Beach",
         "rawType": "float64",
         "type": "float"
        },
        {
         "name": "beach_name_Murrough Beach",
         "rawType": "float64",
         "type": "float"
        },
        {
         "name": "beach_name_Murvagh",
         "rawType": "float64",
         "type": "float"
        },
        {
         "name": "beach_name_Naran",
         "rawType": "float64",
         "type": "float"
        },
        {
         "name": "beach_name_Newtown Cove",
         "rawType": "float64",
         "type": "float"
        },
        {
         "name": "beach_name_North Bull Wall",
         "rawType": "float64",
         "type": "float"
        },
        {
         "name": "beach_name_Oileán Chléire",
         "rawType": "float64",
         "type": "float"
        },
        {
         "name": "beach_name_Old Bawn",
         "rawType": "float64",
         "type": "float"
        },
        {
         "name": "beach_name_Old Head Beach, Louisburgh",
         "rawType": "float64",
         "type": "float"
        },
        {
         "name": "beach_name_Omey Island Strand",
         "rawType": "float64",
         "type": "float"
        },
        {
         "name": "beach_name_Owenahincha, Little Island Strand",
         "rawType": "float64",
         "type": "float"
        },
        {
         "name": "beach_name_Oysterhaven",
         "rawType": "float64",
         "type": "float"
        },
        {
         "name": "beach_name_Port, Lurganboy",
         "rawType": "float64",
         "type": "float"
        },
        {
         "name": "beach_name_Portacloy Beach",
         "rawType": "float64",
         "type": "float"
        },
        {
         "name": "beach_name_Portarthur, Derrybeg",
         "rawType": "float64",
         "type": "float"
        },
        {
         "name": "beach_name_Portmarnock, Velvet Strand Beach",
         "rawType": "float64",
         "type": "float"
        },
        {
         "name": "beach_name_Portnablagh",
         "rawType": "float64",
         "type": "float"
        },
        {
         "name": "beach_name_Portnashangan, Lough Owel",
         "rawType": "float64",
         "type": "float"
        },
        {
         "name": "beach_name_Portrane, the Brook Beach",
         "rawType": "float64",
         "type": "float"
        },
        {
         "name": "beach_name_Portsalon",
         "rawType": "float64",
         "type": "float"
        },
        {
         "name": "beach_name_Quilty",
         "rawType": "float64",
         "type": "float"
        },
        {
         "name": "beach_name_Rathmullan",
         "rawType": "float64",
         "type": "float"
        },
        {
         "name": "beach_name_Red Strand",
         "rawType": "float64",
         "type": "float"
        },
        {
         "name": "beach_name_Redbarn",
         "rawType": "float64",
         "type": "float"
        },
        {
         "name": "beach_name_Reenroe",
         "rawType": "float64",
         "type": "float"
        },
        {
         "name": "beach_name_Renvyle",
         "rawType": "float64",
         "type": "float"
        },
        {
         "name": "beach_name_Ring (Greenlands Strand)",
         "rawType": "float64",
         "type": "float"
        },
        {
         "name": "beach_name_Rinroe Beach, Carrowtigue",
         "rawType": "float64",
         "type": "float"
        },
        {
         "name": "beach_name_River Barrow Bagenalstown",
         "rawType": "float64",
         "type": "float"
        },
        {
         "name": "beach_name_River Barrow Clashganny",
         "rawType": "float64",
         "type": "float"
        },
        {
         "name": "beach_name_Rocky Bay",
         "rawType": "float64",
         "type": "float"
        },
        {
         "name": "beach_name_Ross Beach, Killala",
         "rawType": "float64",
         "type": "float"
        },
        {
         "name": "beach_name_Rossbeigh, White Strand",
         "rawType": "float64",
         "type": "float"
        },
        {
         "name": "beach_name_Rosses Point Beach",
         "rawType": "float64",
         "type": "float"
        },
        {
         "name": "beach_name_Rosslare Harbour",
         "rawType": "float64",
         "type": "float"
        },
        {
         "name": "beach_name_Rosslare Strand",
         "rawType": "float64",
         "type": "float"
        },
        {
         "name": "beach_name_Rossnowlagh",
         "rawType": "float64",
         "type": "float"
        },
        {
         "name": "beach_name_Rush North Beach",
         "rawType": "float64",
         "type": "float"
        },
        {
         "name": "beach_name_Rush, South Beach",
         "rawType": "float64",
         "type": "float"
        },
        {
         "name": "beach_name_Salthill Beach",
         "rawType": "float64",
         "type": "float"
        },
        {
         "name": "beach_name_Sandycove Beach",
         "rawType": "float64",
         "type": "float"
        },
        {
         "name": "beach_name_Sandymount Strand",
         "rawType": "float64",
         "type": "float"
        },
        {
         "name": "beach_name_Seafield, Quilty",
         "rawType": "float64",
         "type": "float"
        },
        {
         "name": "beach_name_Seapoint",
         "rawType": "float64",
         "type": "float"
        },
        {
         "name": "beach_name_Shelley Banks",
         "rawType": "float64",
         "type": "float"
        },
        {
         "name": "beach_name_Shelling Hill/Templetown",
         "rawType": "float64",
         "type": "float"
        },
        {
         "name": "beach_name_Silver Strand",
         "rawType": "float64",
         "type": "float"
        },
        {
         "name": "beach_name_Silver Strand Louisburgh",
         "rawType": "float64",
         "type": "float"
        },
        {
         "name": "beach_name_Silver Strand, Sherkin Island",
         "rawType": "float64",
         "type": "float"
        },
        {
         "name": "beach_name_Silverstrand Beach",
         "rawType": "float64",
         "type": "float"
        },
        {
         "name": "beach_name_Skerries, South Beach",
         "rawType": "float64",
         "type": "float"
        },
        {
         "name": "beach_name_South of Bray Harbour",
         "rawType": "float64",
         "type": "float"
        },
        {
         "name": "beach_name_Spanish Point",
         "rawType": "float64",
         "type": "float"
        },
        {
         "name": "beach_name_Srah Beach",
         "rawType": "float64",
         "type": "float"
        },
        {
         "name": "beach_name_St Helens Bay",
         "rawType": "float64",
         "type": "float"
        },
        {
         "name": "beach_name_Stradbally",
         "rawType": "float64",
         "type": "float"
        },
        {
         "name": "beach_name_Streedagh Beach",
         "rawType": "float64",
         "type": "float"
        },
        {
         "name": "beach_name_Stroove",
         "rawType": "float64",
         "type": "float"
        },
        {
         "name": "beach_name_Sutton, Burrow Beach",
         "rawType": "float64",
         "type": "float"
        },
        {
         "name": "beach_name_Tallaghbawn (White Strand) Louisburgh",
         "rawType": "float64",
         "type": "float"
        },
        {
         "name": "beach_name_Termon Beach",
         "rawType": "float64",
         "type": "float"
        },
        {
         "name": "beach_name_The Cove Arklow",
         "rawType": "float64",
         "type": "float"
        },
        {
         "name": "beach_name_The Cove Greystones",
         "rawType": "float64",
         "type": "float"
        },
        {
         "name": "beach_name_The Cut, Lough Lene",
         "rawType": "float64",
         "type": "float"
        },
        {
         "name": "beach_name_Tragumna",
         "rawType": "float64",
         "type": "float"
        },
        {
         "name": "beach_name_Tramore Beach",
         "rawType": "float64",
         "type": "float"
        },
        {
         "name": "beach_name_Traught, Kinvara",
         "rawType": "float64",
         "type": "float"
        },
        {
         "name": "beach_name_Trá Chaladh Fínis, Carna",
         "rawType": "float64",
         "type": "float"
        },
        {
         "name": "beach_name_Trá Inis Oírr (Main Beach)",
         "rawType": "float64",
         "type": "float"
        },
        {
         "name": "beach_name_Trá Poll na gCaorach Inis Oirr",
         "rawType": "float64",
         "type": "float"
        },
        {
         "name": "beach_name_Trá an Dóilín, An Ceathrú Rua",
         "rawType": "float64",
         "type": "float"
        },
        {
         "name": "beach_name_Trá na Reilige, An Cheathrú Rua",
         "rawType": "float64",
         "type": "float"
        },
        {
         "name": "beach_name_Trá na bhForbacha, Na Forbacha",
         "rawType": "float64",
         "type": "float"
        },
        {
         "name": "beach_name_Trá na hUíne (Inny Strand, Waterville)",
         "rawType": "float64",
         "type": "float"
        },
        {
         "name": "beach_name_Trá na mBan, An Spidéal",
         "rawType": "float64",
         "type": "float"
        },
        {
         "name": "beach_name_Tránaun Beach, Inishturk",
         "rawType": "float64",
         "type": "float"
        },
        {
         "name": "beach_name_Warren, Cregane Strand",
         "rawType": "float64",
         "type": "float"
        },
        {
         "name": "beach_name_Waterville Town Beach",
         "rawType": "float64",
         "type": "float"
        },
        {
         "name": "beach_name_White Rock Beach",
         "rawType": "float64",
         "type": "float"
        },
        {
         "name": "beach_name_White Strand, Caherciveen",
         "rawType": "float64",
         "type": "float"
        },
        {
         "name": "beach_name_White Strand, Doonbeg",
         "rawType": "float64",
         "type": "float"
        },
        {
         "name": "beach_name_White Strand, Miltown Malbay",
         "rawType": "float64",
         "type": "float"
        },
        {
         "name": "beach_name_Whiting Bay",
         "rawType": "float64",
         "type": "float"
        },
        {
         "name": "beach_name_Wicklow Harbour bathing area",
         "rawType": "float64",
         "type": "float"
        },
        {
         "name": "beach_name_Woodstown",
         "rawType": "float64",
         "type": "float"
        },
        {
         "name": "beach_name_Youghal Claycastle",
         "rawType": "float64",
         "type": "float"
        },
        {
         "name": "beach_name_Youghal Front Strand Beach",
         "rawType": "float64",
         "type": "float"
        },
        {
         "name": "local_authority_name_Carlow County Council",
         "rawType": "float64",
         "type": "float"
        },
        {
         "name": "local_authority_name_Clare County Council",
         "rawType": "float64",
         "type": "float"
        },
        {
         "name": "local_authority_name_Cork County Council",
         "rawType": "float64",
         "type": "float"
        },
        {
         "name": "local_authority_name_Donegal County Council",
         "rawType": "float64",
         "type": "float"
        },
        {
         "name": "local_authority_name_Dublin City Council",
         "rawType": "float64",
         "type": "float"
        },
        {
         "name": "local_authority_name_Dun Laoghaire Rathdown County Council",
         "rawType": "float64",
         "type": "float"
        },
        {
         "name": "local_authority_name_Fingal County Council",
         "rawType": "float64",
         "type": "float"
        },
        {
         "name": "local_authority_name_Galway City Council",
         "rawType": "float64",
         "type": "float"
        },
        {
         "name": "local_authority_name_Galway County Council",
         "rawType": "float64",
         "type": "float"
        },
        {
         "name": "local_authority_name_Kerry County Council",
         "rawType": "float64",
         "type": "float"
        },
        {
         "name": "local_authority_name_Leitrim County Council",
         "rawType": "float64",
         "type": "float"
        },
        {
         "name": "local_authority_name_Louth County Council",
         "rawType": "float64",
         "type": "float"
        },
        {
         "name": "local_authority_name_Mayo County Council",
         "rawType": "float64",
         "type": "float"
        },
        {
         "name": "local_authority_name_Meath County Council",
         "rawType": "float64",
         "type": "float"
        },
        {
         "name": "local_authority_name_Monaghan County Council",
         "rawType": "float64",
         "type": "float"
        },
        {
         "name": "local_authority_name_Sligo County Council",
         "rawType": "float64",
         "type": "float"
        },
        {
         "name": "local_authority_name_Tipperary County Council",
         "rawType": "float64",
         "type": "float"
        },
        {
         "name": "local_authority_name_Waterford City & County Council",
         "rawType": "float64",
         "type": "float"
        },
        {
         "name": "local_authority_name_Westmeath County Council",
         "rawType": "float64",
         "type": "float"
        },
        {
         "name": "local_authority_name_Wexford County Council",
         "rawType": "float64",
         "type": "float"
        },
        {
         "name": "local_authority_name_Wicklow County Council",
         "rawType": "float64",
         "type": "float"
        },
        {
         "name": "kmeans_cluster",
         "rawType": "int32",
         "type": "integer"
        }
       ],
       "conversionMethod": "pd.DataFrame",
       "ref": "539ffaf5-74bd-4da7-88fe-8bf96dd83133",
       "rows": [
        [
         "0",
         "-0.54301517669784",
         "-0.5369358292026204",
         "0.0",
         "0.0",
         "0.0",
         "0.0",
         "0.0",
         "0.0",
         "0.0",
         "0.0",
         "0.0",
         "0.0",
         "0.0",
         "0.0",
         "0.0",
         "0.0",
         "1.0",
         "0.0",
         "0.0",
         "0.0",
         "0.0",
         "0.0",
         "0.0",
         "0.0",
         "1.0",
         "0.0",
         "0.0",
         "0.0",
         "0.0",
         "0.0",
         "0.0",
         "0.0",
         "0.0",
         "0.0",
         "0.0",
         "0.0",
         "0.0",
         "0.0",
         "0.0",
         "0.0",
         "0.0",
         "0.0",
         "0.0",
         "0.0",
         "0.0",
         "0.0",
         "0.0",
         "0.0",
         "0.0",
         "0.0",
         "0.0",
         "0.0",
         "0.0",
         "0.0",
         "0.0",
         "0.0",
         "0.0",
         "0.0",
         "0.0",
         "0.0",
         "0.0",
         "0.0",
         "0.0",
         "0.0",
         "0.0",
         "0.0",
         "0.0",
         "0.0",
         "0.0",
         "0.0",
         "0.0",
         "0.0",
         "0.0",
         "0.0",
         "0.0",
         "0.0",
         "0.0",
         "0.0",
         "0.0",
         "0.0",
         "0.0",
         "0.0",
         "0.0",
         "0.0",
         "0.0",
         "0.0",
         "0.0",
         "0.0",
         "0.0",
         "0.0",
         "0.0",
         "0.0",
         "0.0",
         "0.0",
         "0.0",
         "0.0",
         "0.0",
         "0.0",
         "0.0",
         "0.0",
         "0.0",
         "0.0",
         "0.0",
         "0.0",
         "0.0",
         "0.0",
         "0.0",
         "0.0",
         "0.0",
         "0.0",
         "0.0",
         "0.0",
         "0.0",
         "0.0",
         "0.0",
         "0.0",
         "0.0",
         "0.0",
         "0.0",
         "0.0",
         "0.0",
         "0.0",
         "0.0",
         "0.0",
         "0.0",
         "0.0",
         "0.0",
         "0.0",
         "0.0",
         "0.0",
         "0.0",
         "0.0",
         "0.0",
         "0.0",
         "0.0",
         "0.0",
         "0.0",
         "0.0",
         "0.0",
         "0.0",
         "0.0",
         "0.0",
         "0.0",
         "0.0",
         "0.0",
         "0.0",
         "0.0",
         "0.0",
         "0.0",
         "0.0",
         "0.0",
         "0.0",
         "0.0",
         "0.0",
         "0.0",
         "0.0",
         "0.0",
         "0.0",
         "0.0",
         "0.0",
         "0.0",
         "0.0",
         "0.0",
         "0.0",
         "0.0",
         "0.0",
         "0.0",
         "0.0",
         "0.0",
         "0.0",
         "0.0",
         "0.0",
         "0.0",
         "0.0",
         "0.0",
         "0.0",
         "0.0",
         "0.0",
         "0.0",
         "0.0",
         "0.0",
         "0.0",
         "0.0",
         "0.0",
         "0.0",
         "0.0",
         "0.0",
         "0.0",
         "0.0",
         "0.0",
         "0.0",
         "0.0",
         "0.0",
         "0.0",
         "0.0",
         "0.0",
         "0.0",
         "0.0",
         "0.0",
         "0.0",
         "0.0",
         "0.0",
         "0.0",
         "0.0",
         "0.0",
         "0.0",
         "0.0",
         "0.0",
         "0.0",
         "0.0",
         "0.0",
         "0.0",
         "0.0",
         "0.0",
         "0.0",
         "0.0",
         "0.0",
         "0.0",
         "0.0",
         "0.0",
         "0.0",
         "0.0",
         "0.0",
         "0.0",
         "0.0",
         "0.0",
         "0.0",
         "0.0",
         "0.0",
         "0.0",
         "0.0",
         "0.0",
         "0.0",
         "0.0",
         "0.0",
         "0.0",
         "0.0",
         "0.0",
         "0.0",
         "0.0",
         "0.0",
         "0.0",
         "0.0",
         "0.0",
         "0.0",
         "0.0",
         "0.0",
         "0.0",
         "0.0",
         "0.0",
         "0.0",
         "0.0",
         "0.0",
         "0.0",
         "0.0",
         "0.0",
         "0.0",
         "0.0",
         "0.0",
         "0.0",
         "0.0",
         "0.0",
         "0.0",
         "0.0",
         "0.0",
         "0.0",
         "0.0",
         "0.0",
         "0.0",
         "0.0",
         "0.0",
         "0.0",
         "1.0",
         "0.0",
         "0.0",
         "0.0",
         "0"
        ],
        [
         "1",
         "-0.54301517669784",
         "-0.5369358292026204",
         "0.0",
         "0.0",
         "0.0",
         "0.0",
         "0.0",
         "0.0",
         "0.0",
         "0.0",
         "0.0",
         "0.0",
         "0.0",
         "0.0",
         "0.0",
         "0.0",
         "1.0",
         "0.0",
         "0.0",
         "0.0",
         "0.0",
         "0.0",
         "0.0",
         "0.0",
         "0.0",
         "0.0",
         "0.0",
         "0.0",
         "0.0",
         "0.0",
         "0.0",
         "0.0",
         "0.0",
         "0.0",
         "0.0",
         "0.0",
         "0.0",
         "0.0",
         "0.0",
         "0.0",
         "0.0",
         "0.0",
         "0.0",
         "0.0",
         "0.0",
         "0.0",
         "0.0",
         "0.0",
         "0.0",
         "0.0",
         "0.0",
         "0.0",
         "0.0",
         "0.0",
         "0.0",
         "0.0",
         "0.0",
         "0.0",
         "0.0",
         "0.0",
         "0.0",
         "0.0",
         "0.0",
         "0.0",
         "0.0",
         "0.0",
         "0.0",
         "0.0",
         "0.0",
         "0.0",
         "0.0",
         "0.0",
         "1.0",
         "0.0",
         "0.0",
         "0.0",
         "0.0",
         "0.0",
         "0.0",
         "0.0",
         "0.0",
         "0.0",
         "0.0",
         "0.0",
         "0.0",
         "0.0",
         "0.0",
         "0.0",
         "0.0",
         "0.0",
         "0.0",
         "0.0",
         "0.0",
         "0.0",
         "0.0",
         "0.0",
         "0.0",
         "0.0",
         "0.0",
         "0.0",
         "0.0",
         "0.0",
         "0.0",
         "0.0",
         "0.0",
         "0.0",
         "0.0",
         "0.0",
         "0.0",
         "0.0",
         "0.0",
         "0.0",
         "0.0",
         "0.0",
         "0.0",
         "0.0",
         "0.0",
         "0.0",
         "0.0",
         "0.0",
         "0.0",
         "0.0",
         "0.0",
         "0.0",
         "0.0",
         "0.0",
         "0.0",
         "0.0",
         "0.0",
         "0.0",
         "0.0",
         "0.0",
         "0.0",
         "0.0",
         "0.0",
         "0.0",
         "0.0",
         "0.0",
         "0.0",
         "0.0",
         "0.0",
         "0.0",
         "0.0",
         "0.0",
         "0.0",
         "0.0",
         "0.0",
         "0.0",
         "0.0",
         "0.0",
         "0.0",
         "0.0",
         "0.0",
         "0.0",
         "0.0",
         "0.0",
         "0.0",
         "0.0",
         "0.0",
         "0.0",
         "0.0",
         "0.0",
         "0.0",
         "0.0",
         "0.0",
         "0.0",
         "0.0",
         "0.0",
         "0.0",
         "0.0",
         "0.0",
         "0.0",
         "0.0",
         "0.0",
         "0.0",
         "0.0",
         "0.0",
         "0.0",
         "0.0",
         "0.0",
         "0.0",
         "0.0",
         "0.0",
         "0.0",
         "0.0",
         "0.0",
         "0.0",
         "0.0",
         "0.0",
         "0.0",
         "0.0",
         "0.0",
         "0.0",
         "0.0",
         "0.0",
         "0.0",
         "0.0",
         "0.0",
         "0.0",
         "0.0",
         "0.0",
         "0.0",
         "0.0",
         "0.0",
         "0.0",
         "0.0",
         "0.0",
         "0.0",
         "0.0",
         "0.0",
         "0.0",
         "0.0",
         "0.0",
         "0.0",
         "0.0",
         "0.0",
         "0.0",
         "0.0",
         "0.0",
         "0.0",
         "0.0",
         "0.0",
         "0.0",
         "0.0",
         "0.0",
         "0.0",
         "0.0",
         "0.0",
         "0.0",
         "0.0",
         "0.0",
         "0.0",
         "0.0",
         "0.0",
         "0.0",
         "0.0",
         "0.0",
         "0.0",
         "0.0",
         "0.0",
         "0.0",
         "0.0",
         "0.0",
         "0.0",
         "0.0",
         "0.0",
         "0.0",
         "0.0",
         "0.0",
         "0.0",
         "0.0",
         "0.0",
         "0.0",
         "0.0",
         "0.0",
         "0.0",
         "0.0",
         "0.0",
         "0.0",
         "0.0",
         "0.0",
         "0.0",
         "0.0",
         "0.0",
         "0.0",
         "0.0",
         "0.0",
         "0.0",
         "0.0",
         "0.0",
         "0.0",
         "0.0",
         "1.0",
         "0.0",
         "0.0",
         "0.0",
         "0"
        ],
        [
         "2",
         "-0.552287932468104",
         "-0.5369358292026204",
         "0.0",
         "0.0",
         "0.0",
         "0.0",
         "0.0",
         "0.0",
         "0.0",
         "0.0",
         "0.0",
         "0.0",
         "0.0",
         "0.0",
         "0.0",
         "0.0",
         "1.0",
         "0.0",
         "0.0",
         "0.0",
         "0.0",
         "0.0",
         "0.0",
         "0.0",
         "0.0",
         "0.0",
         "0.0",
         "0.0",
         "0.0",
         "0.0",
         "0.0",
         "0.0",
         "0.0",
         "0.0",
         "0.0",
         "0.0",
         "0.0",
         "0.0",
         "0.0",
         "0.0",
         "0.0",
         "0.0",
         "0.0",
         "0.0",
         "0.0",
         "0.0",
         "0.0",
         "0.0",
         "0.0",
         "0.0",
         "0.0",
         "0.0",
         "0.0",
         "0.0",
         "0.0",
         "0.0",
         "0.0",
         "0.0",
         "0.0",
         "0.0",
         "0.0",
         "0.0",
         "0.0",
         "0.0",
         "0.0",
         "0.0",
         "0.0",
         "0.0",
         "0.0",
         "0.0",
         "0.0",
         "0.0",
         "0.0",
         "0.0",
         "1.0",
         "0.0",
         "0.0",
         "0.0",
         "0.0",
         "0.0",
         "0.0",
         "0.0",
         "0.0",
         "0.0",
         "0.0",
         "0.0",
         "0.0",
         "0.0",
         "0.0",
         "0.0",
         "0.0",
         "0.0",
         "0.0",
         "0.0",
         "0.0",
         "0.0",
         "0.0",
         "0.0",
         "0.0",
         "0.0",
         "0.0",
         "0.0",
         "0.0",
         "0.0",
         "0.0",
         "0.0",
         "0.0",
         "0.0",
         "0.0",
         "0.0",
         "0.0",
         "0.0",
         "0.0",
         "0.0",
         "0.0",
         "0.0",
         "0.0",
         "0.0",
         "0.0",
         "0.0",
         "0.0",
         "0.0",
         "0.0",
         "0.0",
         "0.0",
         "0.0",
         "0.0",
         "0.0",
         "0.0",
         "0.0",
         "0.0",
         "0.0",
         "0.0",
         "0.0",
         "0.0",
         "0.0",
         "0.0",
         "0.0",
         "0.0",
         "0.0",
         "0.0",
         "0.0",
         "0.0",
         "0.0",
         "0.0",
         "0.0",
         "0.0",
         "0.0",
         "0.0",
         "0.0",
         "0.0",
         "0.0",
         "0.0",
         "0.0",
         "0.0",
         "0.0",
         "0.0",
         "0.0",
         "0.0",
         "0.0",
         "0.0",
         "0.0",
         "0.0",
         "0.0",
         "0.0",
         "0.0",
         "0.0",
         "0.0",
         "0.0",
         "0.0",
         "0.0",
         "0.0",
         "0.0",
         "0.0",
         "0.0",
         "0.0",
         "0.0",
         "0.0",
         "0.0",
         "0.0",
         "0.0",
         "0.0",
         "0.0",
         "0.0",
         "0.0",
         "0.0",
         "0.0",
         "0.0",
         "0.0",
         "0.0",
         "0.0",
         "0.0",
         "0.0",
         "0.0",
         "0.0",
         "0.0",
         "0.0",
         "0.0",
         "0.0",
         "0.0",
         "0.0",
         "0.0",
         "0.0",
         "0.0",
         "0.0",
         "0.0",
         "0.0",
         "0.0",
         "0.0",
         "0.0",
         "0.0",
         "0.0",
         "0.0",
         "0.0",
         "0.0",
         "0.0",
         "0.0",
         "0.0",
         "0.0",
         "0.0",
         "0.0",
         "0.0",
         "0.0",
         "0.0",
         "0.0",
         "0.0",
         "0.0",
         "0.0",
         "0.0",
         "0.0",
         "0.0",
         "0.0",
         "0.0",
         "0.0",
         "0.0",
         "0.0",
         "0.0",
         "0.0",
         "0.0",
         "0.0",
         "0.0",
         "0.0",
         "0.0",
         "0.0",
         "0.0",
         "0.0",
         "0.0",
         "0.0",
         "0.0",
         "0.0",
         "0.0",
         "0.0",
         "0.0",
         "0.0",
         "0.0",
         "0.0",
         "0.0",
         "0.0",
         "0.0",
         "0.0",
         "0.0",
         "0.0",
         "0.0",
         "0.0",
         "0.0",
         "0.0",
         "0.0",
         "0.0",
         "0.0",
         "0.0",
         "0.0",
         "0.0",
         "1.0",
         "0.0",
         "0.0",
         "0.0",
         "0"
        ],
        [
         "3",
         "1.7380827427871053",
         "0.2273240465509305",
         "0.0",
         "0.0",
         "0.0",
         "0.0",
         "0.0",
         "0.0",
         "0.0",
         "0.0",
         "0.0",
         "0.0",
         "0.0",
         "0.0",
         "0.0",
         "0.0",
         "1.0",
         "0.0",
         "0.0",
         "0.0",
         "0.0",
         "0.0",
         "0.0",
         "0.0",
         "0.0",
         "0.0",
         "0.0",
         "0.0",
         "0.0",
         "0.0",
         "0.0",
         "0.0",
         "0.0",
         "0.0",
         "0.0",
         "0.0",
         "0.0",
         "0.0",
         "0.0",
         "0.0",
         "0.0",
         "0.0",
         "0.0",
         "0.0",
         "0.0",
         "0.0",
         "0.0",
         "0.0",
         "0.0",
         "0.0",
         "0.0",
         "0.0",
         "0.0",
         "0.0",
         "0.0",
         "0.0",
         "0.0",
         "0.0",
         "0.0",
         "0.0",
         "0.0",
         "0.0",
         "0.0",
         "0.0",
         "0.0",
         "0.0",
         "0.0",
         "0.0",
         "0.0",
         "0.0",
         "0.0",
         "0.0",
         "0.0",
         "0.0",
         "0.0",
         "0.0",
         "0.0",
         "0.0",
         "0.0",
         "0.0",
         "0.0",
         "0.0",
         "0.0",
         "0.0",
         "0.0",
         "0.0",
         "0.0",
         "0.0",
         "0.0",
         "0.0",
         "0.0",
         "0.0",
         "0.0",
         "0.0",
         "0.0",
         "0.0",
         "0.0",
         "0.0",
         "0.0",
         "0.0",
         "0.0",
         "0.0",
         "1.0",
         "0.0",
         "0.0",
         "0.0",
         "0.0",
         "0.0",
         "0.0",
         "0.0",
         "0.0",
         "0.0",
         "0.0",
         "0.0",
         "0.0",
         "0.0",
         "0.0",
         "0.0",
         "0.0",
         "0.0",
         "0.0",
         "0.0",
         "0.0",
         "0.0",
         "0.0",
         "0.0",
         "0.0",
         "0.0",
         "0.0",
         "0.0",
         "0.0",
         "0.0",
         "0.0",
         "0.0",
         "0.0",
         "0.0",
         "0.0",
         "0.0",
         "0.0",
         "0.0",
         "0.0",
         "0.0",
         "0.0",
         "0.0",
         "0.0",
         "0.0",
         "0.0",
         "0.0",
         "0.0",
         "0.0",
         "0.0",
         "0.0",
         "0.0",
         "0.0",
         "0.0",
         "0.0",
         "0.0",
         "0.0",
         "0.0",
         "0.0",
         "0.0",
         "0.0",
         "0.0",
         "0.0",
         "0.0",
         "0.0",
         "0.0",
         "0.0",
         "0.0",
         "0.0",
         "0.0",
         "0.0",
         "0.0",
         "0.0",
         "0.0",
         "0.0",
         "0.0",
         "0.0",
         "0.0",
         "0.0",
         "0.0",
         "0.0",
         "0.0",
         "0.0",
         "0.0",
         "0.0",
         "0.0",
         "0.0",
         "0.0",
         "0.0",
         "0.0",
         "0.0",
         "0.0",
         "0.0",
         "0.0",
         "0.0",
         "0.0",
         "0.0",
         "0.0",
         "0.0",
         "0.0",
         "0.0",
         "0.0",
         "0.0",
         "0.0",
         "0.0",
         "0.0",
         "0.0",
         "0.0",
         "0.0",
         "0.0",
         "0.0",
         "0.0",
         "0.0",
         "0.0",
         "0.0",
         "0.0",
         "0.0",
         "0.0",
         "0.0",
         "0.0",
         "0.0",
         "0.0",
         "0.0",
         "0.0",
         "0.0",
         "0.0",
         "0.0",
         "0.0",
         "0.0",
         "0.0",
         "0.0",
         "0.0",
         "0.0",
         "0.0",
         "0.0",
         "0.0",
         "0.0",
         "0.0",
         "0.0",
         "0.0",
         "0.0",
         "0.0",
         "0.0",
         "0.0",
         "0.0",
         "0.0",
         "0.0",
         "0.0",
         "0.0",
         "0.0",
         "0.0",
         "0.0",
         "0.0",
         "0.0",
         "0.0",
         "0.0",
         "0.0",
         "0.0",
         "0.0",
         "0.0",
         "0.0",
         "0.0",
         "0.0",
         "0.0",
         "0.0",
         "0.0",
         "0.0",
         "0.0",
         "0.0",
         "0.0",
         "0.0",
         "1.0",
         "0.0",
         "0.0",
         "0.0",
         "1"
        ],
        [
         "4",
         "-0.54301517669784",
         "-0.5369358292026204",
         "0.0",
         "0.0",
         "0.0",
         "0.0",
         "0.0",
         "0.0",
         "0.0",
         "0.0",
         "0.0",
         "0.0",
         "0.0",
         "0.0",
         "0.0",
         "0.0",
         "1.0",
         "0.0",
         "0.0",
         "0.0",
         "0.0",
         "0.0",
         "0.0",
         "0.0",
         "0.0",
         "0.0",
         "0.0",
         "0.0",
         "0.0",
         "0.0",
         "0.0",
         "0.0",
         "0.0",
         "0.0",
         "0.0",
         "0.0",
         "0.0",
         "0.0",
         "0.0",
         "0.0",
         "0.0",
         "0.0",
         "0.0",
         "0.0",
         "0.0",
         "0.0",
         "0.0",
         "0.0",
         "0.0",
         "0.0",
         "0.0",
         "0.0",
         "0.0",
         "0.0",
         "0.0",
         "0.0",
         "0.0",
         "0.0",
         "0.0",
         "0.0",
         "0.0",
         "0.0",
         "0.0",
         "0.0",
         "0.0",
         "0.0",
         "0.0",
         "0.0",
         "0.0",
         "0.0",
         "0.0",
         "0.0",
         "0.0",
         "0.0",
         "0.0",
         "0.0",
         "0.0",
         "0.0",
         "0.0",
         "0.0",
         "0.0",
         "0.0",
         "0.0",
         "0.0",
         "0.0",
         "0.0",
         "0.0",
         "0.0",
         "0.0",
         "0.0",
         "0.0",
         "0.0",
         "0.0",
         "0.0",
         "0.0",
         "0.0",
         "0.0",
         "0.0",
         "0.0",
         "0.0",
         "0.0",
         "0.0",
         "0.0",
         "0.0",
         "0.0",
         "0.0",
         "0.0",
         "0.0",
         "0.0",
         "0.0",
         "0.0",
         "0.0",
         "0.0",
         "0.0",
         "0.0",
         "0.0",
         "0.0",
         "0.0",
         "0.0",
         "0.0",
         "0.0",
         "0.0",
         "0.0",
         "0.0",
         "0.0",
         "0.0",
         "0.0",
         "0.0",
         "0.0",
         "0.0",
         "0.0",
         "0.0",
         "0.0",
         "0.0",
         "0.0",
         "0.0",
         "0.0",
         "0.0",
         "0.0",
         "0.0",
         "0.0",
         "0.0",
         "0.0",
         "0.0",
         "0.0",
         "0.0",
         "0.0",
         "0.0",
         "0.0",
         "0.0",
         "0.0",
         "0.0",
         "0.0",
         "0.0",
         "0.0",
         "0.0",
         "0.0",
         "0.0",
         "0.0",
         "0.0",
         "0.0",
         "0.0",
         "0.0",
         "0.0",
         "0.0",
         "0.0",
         "0.0",
         "0.0",
         "0.0",
         "0.0",
         "0.0",
         "0.0",
         "0.0",
         "0.0",
         "0.0",
         "0.0",
         "0.0",
         "0.0",
         "0.0",
         "0.0",
         "0.0",
         "0.0",
         "0.0",
         "0.0",
         "0.0",
         "0.0",
         "0.0",
         "0.0",
         "0.0",
         "0.0",
         "0.0",
         "0.0",
         "0.0",
         "0.0",
         "0.0",
         "0.0",
         "0.0",
         "0.0",
         "0.0",
         "0.0",
         "0.0",
         "0.0",
         "0.0",
         "0.0",
         "0.0",
         "0.0",
         "0.0",
         "0.0",
         "0.0",
         "0.0",
         "0.0",
         "0.0",
         "0.0",
         "0.0",
         "0.0",
         "0.0",
         "0.0",
         "0.0",
         "0.0",
         "0.0",
         "0.0",
         "0.0",
         "0.0",
         "0.0",
         "0.0",
         "0.0",
         "0.0",
         "0.0",
         "0.0",
         "0.0",
         "0.0",
         "0.0",
         "0.0",
         "1.0",
         "0.0",
         "0.0",
         "0.0",
         "0.0",
         "0.0",
         "0.0",
         "0.0",
         "0.0",
         "0.0",
         "0.0",
         "0.0",
         "0.0",
         "0.0",
         "0.0",
         "0.0",
         "0.0",
         "0.0",
         "0.0",
         "0.0",
         "0.0",
         "0.0",
         "0.0",
         "0.0",
         "0.0",
         "0.0",
         "0.0",
         "0.0",
         "0.0",
         "0.0",
         "0.0",
         "0.0",
         "0.0",
         "0.0",
         "0.0",
         "0.0",
         "0.0",
         "0.0",
         "0.0",
         "1.0",
         "0.0",
         "0.0",
         "0.0",
         "0"
        ]
       ],
       "shape": {
        "columns": 277,
        "rows": 5
       }
      },
      "text/html": [
       "<div>\n",
       "<style scoped>\n",
       "    .dataframe tbody tr th:only-of-type {\n",
       "        vertical-align: middle;\n",
       "    }\n",
       "\n",
       "    .dataframe tbody tr th {\n",
       "        vertical-align: top;\n",
       "    }\n",
       "\n",
       "    .dataframe thead th {\n",
       "        text-align: right;\n",
       "    }\n",
       "</style>\n",
       "<table border=\"1\" class=\"dataframe\">\n",
       "  <thead>\n",
       "    <tr style=\"text-align: right;\">\n",
       "      <th></th>\n",
       "      <th>e_coli_result</th>\n",
       "      <th>intestinal_enterococci_result</th>\n",
       "      <th>county_name_Carlow</th>\n",
       "      <th>county_name_Clare</th>\n",
       "      <th>county_name_Cork</th>\n",
       "      <th>county_name_Donegal</th>\n",
       "      <th>county_name_Dublin</th>\n",
       "      <th>county_name_Galway</th>\n",
       "      <th>county_name_Kerry</th>\n",
       "      <th>county_name_Leitrim</th>\n",
       "      <th>...</th>\n",
       "      <th>local_authority_name_Mayo County Council</th>\n",
       "      <th>local_authority_name_Meath County Council</th>\n",
       "      <th>local_authority_name_Monaghan County Council</th>\n",
       "      <th>local_authority_name_Sligo County Council</th>\n",
       "      <th>local_authority_name_Tipperary County Council</th>\n",
       "      <th>local_authority_name_Waterford City &amp; County Council</th>\n",
       "      <th>local_authority_name_Westmeath County Council</th>\n",
       "      <th>local_authority_name_Wexford County Council</th>\n",
       "      <th>local_authority_name_Wicklow County Council</th>\n",
       "      <th>kmeans_cluster</th>\n",
       "    </tr>\n",
       "  </thead>\n",
       "  <tbody>\n",
       "    <tr>\n",
       "      <th>0</th>\n",
       "      <td>-0.543015</td>\n",
       "      <td>-0.536936</td>\n",
       "      <td>0.0</td>\n",
       "      <td>0.0</td>\n",
       "      <td>0.0</td>\n",
       "      <td>0.0</td>\n",
       "      <td>0.0</td>\n",
       "      <td>0.0</td>\n",
       "      <td>0.0</td>\n",
       "      <td>0.0</td>\n",
       "      <td>...</td>\n",
       "      <td>0.0</td>\n",
       "      <td>0.0</td>\n",
       "      <td>0.0</td>\n",
       "      <td>0.0</td>\n",
       "      <td>0.0</td>\n",
       "      <td>1.0</td>\n",
       "      <td>0.0</td>\n",
       "      <td>0.0</td>\n",
       "      <td>0.0</td>\n",
       "      <td>0</td>\n",
       "    </tr>\n",
       "    <tr>\n",
       "      <th>1</th>\n",
       "      <td>-0.543015</td>\n",
       "      <td>-0.536936</td>\n",
       "      <td>0.0</td>\n",
       "      <td>0.0</td>\n",
       "      <td>0.0</td>\n",
       "      <td>0.0</td>\n",
       "      <td>0.0</td>\n",
       "      <td>0.0</td>\n",
       "      <td>0.0</td>\n",
       "      <td>0.0</td>\n",
       "      <td>...</td>\n",
       "      <td>0.0</td>\n",
       "      <td>0.0</td>\n",
       "      <td>0.0</td>\n",
       "      <td>0.0</td>\n",
       "      <td>0.0</td>\n",
       "      <td>1.0</td>\n",
       "      <td>0.0</td>\n",
       "      <td>0.0</td>\n",
       "      <td>0.0</td>\n",
       "      <td>0</td>\n",
       "    </tr>\n",
       "    <tr>\n",
       "      <th>2</th>\n",
       "      <td>-0.552288</td>\n",
       "      <td>-0.536936</td>\n",
       "      <td>0.0</td>\n",
       "      <td>0.0</td>\n",
       "      <td>0.0</td>\n",
       "      <td>0.0</td>\n",
       "      <td>0.0</td>\n",
       "      <td>0.0</td>\n",
       "      <td>0.0</td>\n",
       "      <td>0.0</td>\n",
       "      <td>...</td>\n",
       "      <td>0.0</td>\n",
       "      <td>0.0</td>\n",
       "      <td>0.0</td>\n",
       "      <td>0.0</td>\n",
       "      <td>0.0</td>\n",
       "      <td>1.0</td>\n",
       "      <td>0.0</td>\n",
       "      <td>0.0</td>\n",
       "      <td>0.0</td>\n",
       "      <td>0</td>\n",
       "    </tr>\n",
       "    <tr>\n",
       "      <th>3</th>\n",
       "      <td>1.738083</td>\n",
       "      <td>0.227324</td>\n",
       "      <td>0.0</td>\n",
       "      <td>0.0</td>\n",
       "      <td>0.0</td>\n",
       "      <td>0.0</td>\n",
       "      <td>0.0</td>\n",
       "      <td>0.0</td>\n",
       "      <td>0.0</td>\n",
       "      <td>0.0</td>\n",
       "      <td>...</td>\n",
       "      <td>0.0</td>\n",
       "      <td>0.0</td>\n",
       "      <td>0.0</td>\n",
       "      <td>0.0</td>\n",
       "      <td>0.0</td>\n",
       "      <td>1.0</td>\n",
       "      <td>0.0</td>\n",
       "      <td>0.0</td>\n",
       "      <td>0.0</td>\n",
       "      <td>1</td>\n",
       "    </tr>\n",
       "    <tr>\n",
       "      <th>4</th>\n",
       "      <td>-0.543015</td>\n",
       "      <td>-0.536936</td>\n",
       "      <td>0.0</td>\n",
       "      <td>0.0</td>\n",
       "      <td>0.0</td>\n",
       "      <td>0.0</td>\n",
       "      <td>0.0</td>\n",
       "      <td>0.0</td>\n",
       "      <td>0.0</td>\n",
       "      <td>0.0</td>\n",
       "      <td>...</td>\n",
       "      <td>0.0</td>\n",
       "      <td>0.0</td>\n",
       "      <td>0.0</td>\n",
       "      <td>0.0</td>\n",
       "      <td>0.0</td>\n",
       "      <td>1.0</td>\n",
       "      <td>0.0</td>\n",
       "      <td>0.0</td>\n",
       "      <td>0.0</td>\n",
       "      <td>0</td>\n",
       "    </tr>\n",
       "  </tbody>\n",
       "</table>\n",
       "<p>5 rows × 277 columns</p>\n",
       "</div>"
      ],
      "text/plain": [
       "   e_coli_result  intestinal_enterococci_result  county_name_Carlow  \\\n",
       "0      -0.543015                      -0.536936                 0.0   \n",
       "1      -0.543015                      -0.536936                 0.0   \n",
       "2      -0.552288                      -0.536936                 0.0   \n",
       "3       1.738083                       0.227324                 0.0   \n",
       "4      -0.543015                      -0.536936                 0.0   \n",
       "\n",
       "   county_name_Clare  county_name_Cork  county_name_Donegal  \\\n",
       "0                0.0               0.0                  0.0   \n",
       "1                0.0               0.0                  0.0   \n",
       "2                0.0               0.0                  0.0   \n",
       "3                0.0               0.0                  0.0   \n",
       "4                0.0               0.0                  0.0   \n",
       "\n",
       "   county_name_Dublin  county_name_Galway  county_name_Kerry  \\\n",
       "0                 0.0                 0.0                0.0   \n",
       "1                 0.0                 0.0                0.0   \n",
       "2                 0.0                 0.0                0.0   \n",
       "3                 0.0                 0.0                0.0   \n",
       "4                 0.0                 0.0                0.0   \n",
       "\n",
       "   county_name_Leitrim  ...  local_authority_name_Mayo County Council  \\\n",
       "0                  0.0  ...                                       0.0   \n",
       "1                  0.0  ...                                       0.0   \n",
       "2                  0.0  ...                                       0.0   \n",
       "3                  0.0  ...                                       0.0   \n",
       "4                  0.0  ...                                       0.0   \n",
       "\n",
       "   local_authority_name_Meath County Council  \\\n",
       "0                                        0.0   \n",
       "1                                        0.0   \n",
       "2                                        0.0   \n",
       "3                                        0.0   \n",
       "4                                        0.0   \n",
       "\n",
       "   local_authority_name_Monaghan County Council  \\\n",
       "0                                           0.0   \n",
       "1                                           0.0   \n",
       "2                                           0.0   \n",
       "3                                           0.0   \n",
       "4                                           0.0   \n",
       "\n",
       "   local_authority_name_Sligo County Council  \\\n",
       "0                                        0.0   \n",
       "1                                        0.0   \n",
       "2                                        0.0   \n",
       "3                                        0.0   \n",
       "4                                        0.0   \n",
       "\n",
       "   local_authority_name_Tipperary County Council  \\\n",
       "0                                            0.0   \n",
       "1                                            0.0   \n",
       "2                                            0.0   \n",
       "3                                            0.0   \n",
       "4                                            0.0   \n",
       "\n",
       "   local_authority_name_Waterford City & County Council  \\\n",
       "0                                                1.0      \n",
       "1                                                1.0      \n",
       "2                                                1.0      \n",
       "3                                                1.0      \n",
       "4                                                1.0      \n",
       "\n",
       "   local_authority_name_Westmeath County Council  \\\n",
       "0                                            0.0   \n",
       "1                                            0.0   \n",
       "2                                            0.0   \n",
       "3                                            0.0   \n",
       "4                                            0.0   \n",
       "\n",
       "   local_authority_name_Wexford County Council  \\\n",
       "0                                          0.0   \n",
       "1                                          0.0   \n",
       "2                                          0.0   \n",
       "3                                          0.0   \n",
       "4                                          0.0   \n",
       "\n",
       "   local_authority_name_Wicklow County Council  kmeans_cluster  \n",
       "0                                          0.0               0  \n",
       "1                                          0.0               0  \n",
       "2                                          0.0               0  \n",
       "3                                          0.0               1  \n",
       "4                                          0.0               0  \n",
       "\n",
       "[5 rows x 277 columns]"
      ]
     },
     "execution_count": 48,
     "metadata": {},
     "output_type": "execute_result"
    }
   ],
   "source": [
    "df_encoded.head()"
   ]
  },
  {
   "cell_type": "markdown",
   "id": "e80ca804",
   "metadata": {},
   "source": [
    "## Hierarchical Clustering (Agglomerative) without PCA"
   ]
  },
  {
   "cell_type": "code",
   "execution_count": 49,
   "id": "5432869a",
   "metadata": {},
   "outputs": [
    {
     "name": "stdout",
     "output_type": "stream",
     "text": [
      "\n",
      "Hierarchical Clustering (Agglomerative):\n"
     ]
    },
    {
     "data": {
      "image/png": "[encoded data removed]",
      "text/plain": [
       "<Figure size 800x600 with 1 Axes>"
      ]
     },
     "metadata": {},
     "output_type": "display_data"
    }
   ],
   "source": [
    "print(\"\\nHierarchical Clustering (Agglomerative):\")\n",
    "silhouette_scores_hierarchical = []\n",
    "\n",
    "for k in k_range:\n",
    "    hierarchical = AgglomerativeClustering(n_clusters=k)\n",
    "    hierarchical.fit(df_encoded)\n",
    "    silhouette_scores_hierarchical.append(silhouette_score(df_encoded, hierarchical.labels_))\n",
    "\n",
    "# Plot Silhouette Scores for Hierarchical\n",
    "plt.figure(figsize=(8, 6))\n",
    "plt.plot(k_range, silhouette_scores_hierarchical, marker='o')\n",
    "plt.xlabel('Number of Clusters (k)')\n",
    "plt.ylabel('Silhouette Score')\n",
    "plt.title('Silhouette Score for Optimal k - Hierarchical')\n",
    "plt.xticks(k_range)\n",
    "plt.show()\n"
   ]
  },
  {
   "cell_type": "code",
   "execution_count": 50,
   "id": "5cbc7459",
   "metadata": {},
   "outputs": [
    {
     "name": "stdout",
     "output_type": "stream",
     "text": [
      "Optimal number of clusters (k) for Hierarchical Clustering: 2\n"
     ]
    }
   ],
   "source": [
    "# Select best k for hierarchical\n",
    "best_k_hierarchical = k_range[np.argmax(silhouette_scores_hierarchical)]\n",
    "print(f\"Optimal number of clusters (k) for Hierarchical Clustering: {best_k_hierarchical}\")\n",
    "\n",
    "# Train Hierarchical with optimal k\n",
    "hierarchical = AgglomerativeClustering(n_clusters=best_k_hierarchical)\n",
    "hierarchical.fit_predict(df_encoded)\n",
    "hierarchical_labels = hierarchical.labels_"
   ]
  },
  {
   "cell_type": "code",
   "execution_count": 51,
   "id": "4b3ef975",
   "metadata": {},
   "outputs": [
    {
     "data": {
      "image/png": "[encoded data removed]",
      "text/plain": [
       "<Figure size 1000x700 with 1 Axes>"
      ]
     },
     "metadata": {},
     "output_type": "display_data"
    }
   ],
   "source": [
    "linked = linkage(df_encoded, method='ward')\n",
    "\n",
    "plt.figure(figsize=(10, 7))\n",
    "dendrogram(linked, orientation='top')\n",
    "plt.title('Hierarchical Clustering Dendrogram')\n",
    "plt.xlabel('Samples')\n",
    "plt.ylabel('Cluster Distance')\n",
    "plt.show()"
   ]
  },
  {
   "cell_type": "markdown",
   "id": "675585b5",
   "metadata": {},
   "source": [
    "## K-Means Clustering with PCA"
   ]
  },
  {
   "cell_type": "code",
   "execution_count": 52,
   "id": "40ee20af",
   "metadata": {},
   "outputs": [],
   "source": [
    "pca = PCA(n_components=2)\n",
    "pca_data = pca.fit_transform(df_encoded)"
   ]
  },
  {
   "cell_type": "code",
   "execution_count": 53,
   "id": "aeca0554",
   "metadata": {},
   "outputs": [],
   "source": [
    "kmeans_pca = KMeans(n_clusters=best_k_kmeans, random_state=42)\n",
    "kmeans_pca.fit_predict(pca_data)\n",
    "kmeans_labels_pca = kmeans_pca.labels_"
   ]
  },
  {
   "cell_type": "markdown",
   "id": "a77219fb",
   "metadata": {},
   "source": [
    "## Hierarchical Clustering (Agglomerative) with PCA"
   ]
  },
  {
   "cell_type": "code",
   "execution_count": 54,
   "id": "ca4a98e3",
   "metadata": {},
   "outputs": [],
   "source": [
    "hierarchical_pca = AgglomerativeClustering(n_clusters=best_k_hierarchical)\n",
    "hierarchical_pca.fit_predict(pca_data)\n",
    "hierarchical_labels_pca = hierarchical_pca.labels_"
   ]
  },
  {
   "cell_type": "markdown",
   "id": "e9cde0d2",
   "metadata": {},
   "source": [
    "# 5. Model Performance Evaluation"
   ]
  },
  {
   "cell_type": "code",
   "execution_count": null,
   "id": "89ee97b7",
   "metadata": {},
   "outputs": [],
   "source": [
    "def evaluate_clustering(data, labels, algorithm_name = \"Model\",print=True):\n",
    "    \"\"\"Evaluates clustering performance and prints metrics.\"\"\"\n",
    "    silhouette = silhouette_score(data, labels)\n",
    "    calinski = calinski_harabasz_score(data, labels)\n",
    "    davies_bouldin = davies_bouldin_score(data, labels)\n",
    "    if print :\n",
    "        print(f\"\\n{algorithm_name} Clustering Evaluation:\")\n",
    "        print(f\"  Silhouette Score: {silhouette:.3f}\")\n",
    "        print(f\"  Calinski-Harabasz Index: {calinski:.3f}\")\n",
    "        print(f\"  Davies-Bouldin Index: {davies_bouldin:.3f}\")\n",
    "    return silhouette, calinski, davies_bouldin"
   ]
  },
  {
   "cell_type": "code",
   "execution_count": 57,
   "id": "25c59653",
   "metadata": {},
   "outputs": [
    {
     "name": "stdout",
     "output_type": "stream",
     "text": [
      "\n",
      "Model Performance Evaluation:\n",
      "\n",
      "K-Means Clustering Evaluation:\n",
      "  Silhouette Score: 0.415\n",
      "  Calinski-Harabasz Index: 6635.786\n",
      "  Davies-Bouldin Index: 1.300\n",
      "\n",
      "Hierarchical Clustering Evaluation:\n",
      "  Silhouette Score: 0.426\n",
      "  Calinski-Harabasz Index: 5830.464\n",
      "  Davies-Bouldin Index: 1.290\n",
      "\n",
      "K-Means (PCA) Clustering Evaluation:\n",
      "  Silhouette Score: 0.766\n",
      "  Calinski-Harabasz Index: 28969.668\n",
      "  Davies-Bouldin Index: 0.696\n",
      "\n",
      "Hierarchical (PCA) Clustering Evaluation:\n",
      "  Silhouette Score: 0.766\n",
      "  Calinski-Harabasz Index: 28969.668\n",
      "  Davies-Bouldin Index: 0.696\n"
     ]
    },
    {
     "data": {
      "text/plain": [
       "(np.float64(0.7664455423355535),\n",
       " np.float64(28969.667984569063),\n",
       " np.float64(0.6962238424192329))"
      ]
     },
     "execution_count": 57,
     "metadata": {},
     "output_type": "execute_result"
    }
   ],
   "source": [
    "print(\"\\nModel Performance Evaluation:\")\n",
    "\n",
    "evaluate_clustering(df_encoded, kmeans_labels, \"K-Means\")\n",
    "evaluate_clustering(df_encoded, hierarchical_labels, \"Hierarchical\")\n",
    "\n",
    "evaluate_clustering(pca_data, kmeans_labels_pca, \"K-Means (PCA)\")\n",
    "evaluate_clustering(pca_data, hierarchical_labels_pca, \"Hierarchical (PCA)\")\n"
   ]
  },
  {
   "cell_type": "code",
   "execution_count": 63,
   "id": "03d3d129",
   "metadata": {},
   "outputs": [
    {
     "data": {
      "image/png": "[encoded data removed]",
      "text/plain": [
       "<Figure size 800x600 with 1 Axes>"
      ]
     },
     "metadata": {},
     "output_type": "display_data"
    }
   ],
   "source": [
    "X = df_encoded.iloc[:, [1,2]].values\n",
    "\n",
    "# K-Means Clusters\n",
    "plt.figure(figsize=(8, 6))\n",
    "plt.scatter(X[:, 0], X[:, 1], c=kmeans_labels, cmap='viridis')\n",
    "plt.title('K-Means Clustering')\n",
    "plt.xlabel('E. coli (scaled)')\n",
    "plt.ylabel('Intestinal Enterococci (scaled)')\n",
    "plt.show()\n"
   ]
  },
  {
   "cell_type": "code",
   "execution_count": null,
   "id": "bfabd903",
   "metadata": {},
   "outputs": [
    {
     "data": {
      "image/png": "[encoded data removed]",
      "text/plain": [
       "<Figure size 800x600 with 1 Axes>"
      ]
     },
     "metadata": {},
     "output_type": "display_data"
    }
   ],
   "source": [
    "# Hierarchical Clusters\n",
    "plt.figure(figsize=(8, 6))\n",
    "plt.scatter(X[:, 0], X[:, 1], c=hierarchical_labels, cmap='viridis')\n",
    "plt.title('Hierarchical Clustering')\n",
    "plt.xlabel('E. coli (scaled)')\n",
    "plt.ylabel('Intestinal Enterococci (scaled)')\n",
    "plt.show()"
   ]
  },
  {
   "cell_type": "code",
   "execution_count": null,
   "id": "b7afd598",
   "metadata": {},
   "outputs": [
    {
     "data": {
      "image/png": "[encoded data removed]",
      "text/plain": [
       "<Figure size 800x600 with 1 Axes>"
      ]
     },
     "metadata": {},
     "output_type": "display_data"
    }
   ],
   "source": [
    "# PCA - K-Means\n",
    "plt.figure(figsize=(8, 6))\n",
    "plt.scatter(pca_data[:, 0], pca_data[:, 1], c=kmeans_labels_pca, cmap='viridis')\n",
    "plt.title('K-Means on PCA-reduced Data')\n",
    "plt.xlabel('PCA Component 1')\n",
    "plt.ylabel('PCA Component 2')\n",
    "plt.show()\n"
   ]
  },
  {
   "cell_type": "code",
   "execution_count": 66,
   "id": "16eb6f4e",
   "metadata": {},
   "outputs": [
    {
     "data": {
      "image/png": "[encoded data removed]",
      "text/plain": [
       "<Figure size 800x600 with 1 Axes>"
      ]
     },
     "metadata": {},
     "output_type": "display_data"
    }
   ],
   "source": [
    "# PCA - Hierarchical \n",
    "plt.figure(figsize=(8, 6))\n",
    "plt.scatter(pca_data[:, 0], pca_data[:, 1], c=hierarchical_labels_pca, cmap='viridis')\n",
    "plt.title('Hierarchical  on PCA-reduced Data')\n",
    "plt.xlabel('PCA Component 1')\n",
    "plt.ylabel('PCA Component 2')\n",
    "plt.show()"
   ]
  },
  {
   "cell_type": "markdown",
   "id": "81c66321",
   "metadata": {},
   "source": [
    "# 6. Compare Model Results"
   ]
  },
  {
   "cell_type": "code",
   "execution_count": null,
   "id": "bd2276f4",
   "metadata": {},
   "outputs": [
    {
     "name": "stdout",
     "output_type": "stream",
     "text": [
      "\n",
      "Model Comparison:\n",
      "K-Means Clustering:\n",
      "  Optimal k: 2\n",
      "Hierarchical Clustering:\n",
      "  Optimal k: 2\n",
      "                    Metric      K-Means  Hierarchical  K-Means (PCA)  \\\n",
      "0         Silhouette Score     0.414805      0.425660       0.766446   \n",
      "1  Calinski-Harabasz Index  6635.786435   5830.463704   28969.667985   \n",
      "2     Davies-Bouldin Index     1.300002      1.289907       0.696224   \n",
      "\n",
      "   Hierarchical (PCA)  \n",
      "0            0.766446  \n",
      "1        28969.667985  \n",
      "2            0.696224  \n"
     ]
    }
   ],
   "source": [
    "print(\"\\nModel Comparison:\")\n",
    "print(\"K-Means Clustering:\")\n",
    "print(f\"  Optimal k: {best_k_kmeans}\")\n",
    "print(\"Hierarchical Clustering:\")\n",
    "print(f\"  Optimal k: {best_k_hierarchical}\")\n",
    "\n",
    "comparison_table = pd.DataFrame({\n",
    "    'Metric': ['Silhouette Score', 'Calinski-Harabasz Index', 'Davies-Bouldin Index'],\n",
    "    'K-Means': evaluate_clustering(df_encoded, kmeans_labels, \"K-Means\",False),\n",
    "    'Hierarchical': evaluate_clustering(df_encoded, hierarchical_labels, \"Hierarchical\",False),\n",
    "    'K-Means (PCA)': evaluate_clustering(pca_data, kmeans_labels_pca, \"K-Means (PCA)\",False),\n",
    "    'Hierarchical (PCA)': evaluate_clustering(pca_data, hierarchical_labels_pca, \"Hierarchical (PCA)\",False)\n",
    "}) \n",
    "comparison_table"
   ]
  }
 ],
 "metadata": {
  "kernelspec": {
   "display_name": ".venv",
   "language": "python",
   "name": "python3"
  },
  "language_info": {
   "codemirror_mode": {
    "name": "ipython",
    "version": 3
   },
   "file_extension": ".py",
   "mimetype": "text/x-python",
   "name": "python",
   "nbconvert_exporter": "python",
   "pygments_lexer": "ipython3",
   "version": "3.12.0"
  }
 },
 "nbformat": 4,
 "nbformat_minor": 5
}
